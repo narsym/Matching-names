{
  "nbformat": 4,
  "nbformat_minor": 0,
  "metadata": {
    "colab": {
      "name": "Internship assignment.ipynb",
      "provenance": [],
      "collapsed_sections": [],
      "include_colab_link": true
    },
    "kernelspec": {
      "name": "python3",
      "display_name": "Python 3"
    },
    "accelerator": "GPU"
  },
  "cells": [
    {
      "cell_type": "markdown",
      "metadata": {
        "id": "view-in-github",
        "colab_type": "text"
      },
      "source": [
        "<a href=\"https://colab.research.google.com/github/narsym/Matching-names/blob/main/Internship_assignment.ipynb\" target=\"_parent\"><img src=\"https://colab.research.google.com/assets/colab-badge.svg\" alt=\"Open In Colab\"/></a>"
      ]
    },
    {
      "cell_type": "code",
      "metadata": {
        "id": "Cy6xu6jvSDLu"
      },
      "source": [
        "import pandas as pd\n",
        "data1 = pd.read_excel('https://github.com/narsym/Matching-names/blob/main/Dataset%20O.xlsx?raw=true')\n",
        "data2 = pd.read_excel('https://github.com/narsym/Matching-names/blob/main/Dataset%20O.xlsx?raw=true')"
      ],
      "execution_count": 17,
      "outputs": []
    },
    {
      "cell_type": "code",
      "metadata": {
        "id": "0d0wldlXVwXQ",
        "outputId": "d81a2c28-44be-46a6-baf6-cb0b8c84e43b",
        "colab": {
          "base_uri": "https://localhost:8080/",
          "height": 296
        }
      },
      "source": [
        "data1.head()"
      ],
      "execution_count": 18,
      "outputs": [
        {
          "output_type": "execute_result",
          "data": {
            "text/html": [
              "<div>\n",
              "<style scoped>\n",
              "    .dataframe tbody tr th:only-of-type {\n",
              "        vertical-align: middle;\n",
              "    }\n",
              "\n",
              "    .dataframe tbody tr th {\n",
              "        vertical-align: top;\n",
              "    }\n",
              "\n",
              "    .dataframe thead th {\n",
              "        text-align: right;\n",
              "    }\n",
              "</style>\n",
              "<table border=\"1\" class=\"dataframe\">\n",
              "  <thead>\n",
              "    <tr style=\"text-align: right;\">\n",
              "      <th></th>\n",
              "      <th>medName</th>\n",
              "      <th>manufacturer</th>\n",
              "      <th>onemg_price</th>\n",
              "      <th>Ingredients</th>\n",
              "      <th>Prescription Required</th>\n",
              "      <th>Units in Pack</th>\n",
              "      <th>Pack Size</th>\n",
              "      <th>Stock</th>\n",
              "      <th>Pack Form</th>\n",
              "      <th>Strength</th>\n",
              "    </tr>\n",
              "  </thead>\n",
              "  <tbody>\n",
              "    <tr>\n",
              "      <th>0</th>\n",
              "      <td>Cofsils Cough Syrup</td>\n",
              "      <td>Cipla Health Ltd</td>\n",
              "      <td>â‚¹69.7</td>\n",
              "      <td>Diphenhydramine (14.08mg/5ml) + Ammonium Chlor...</td>\n",
              "      <td>Yes</td>\n",
              "      <td>1</td>\n",
              "      <td>100</td>\n",
              "      <td>Yes</td>\n",
              "      <td>Bottle</td>\n",
              "      <td>Not Available</td>\n",
              "    </tr>\n",
              "    <tr>\n",
              "      <th>1</th>\n",
              "      <td>Nicogum 2 Mini Lozenges Mint Plus</td>\n",
              "      <td>Cipla Health Ltd</td>\n",
              "      <td>â‚¹76.5</td>\n",
              "      <td>Nicotine (2mg)</td>\n",
              "      <td>Yes</td>\n",
              "      <td>1</td>\n",
              "      <td>10</td>\n",
              "      <td>No</td>\n",
              "      <td>Strip</td>\n",
              "      <td>Not Available</td>\n",
              "    </tr>\n",
              "    <tr>\n",
              "      <th>2</th>\n",
              "      <td>Nicogum 4 Nicotine Gum Fresh Mint Sugar Free</td>\n",
              "      <td>Cipla Health Ltd</td>\n",
              "      <td>â‚¹74.8</td>\n",
              "      <td>Nicotine (4mg)</td>\n",
              "      <td>Yes</td>\n",
              "      <td>1</td>\n",
              "      <td>10</td>\n",
              "      <td>No</td>\n",
              "      <td>Packet</td>\n",
              "      <td>Not Available</td>\n",
              "    </tr>\n",
              "    <tr>\n",
              "      <th>3</th>\n",
              "      <td>Nicotex 21mg Patch</td>\n",
              "      <td>Cipla Health Ltd</td>\n",
              "      <td>â‚¹637.5</td>\n",
              "      <td>Nicotine (21mg)</td>\n",
              "      <td>Yes</td>\n",
              "      <td>1</td>\n",
              "      <td>7</td>\n",
              "      <td>No</td>\n",
              "      <td>Packet</td>\n",
              "      <td>21mg</td>\n",
              "    </tr>\n",
              "    <tr>\n",
              "      <th>4</th>\n",
              "      <td>Nicotex 4mg Chewing Gums Classic Fresh Mint</td>\n",
              "      <td>Cipla Health Ltd</td>\n",
              "      <td>â‚¹74.8</td>\n",
              "      <td>Nicotine (4mg)</td>\n",
              "      <td>Yes</td>\n",
              "      <td>1</td>\n",
              "      <td>9</td>\n",
              "      <td>No</td>\n",
              "      <td>Packet</td>\n",
              "      <td>4mg</td>\n",
              "    </tr>\n",
              "  </tbody>\n",
              "</table>\n",
              "</div>"
            ],
            "text/plain": [
              "                                        medName  ...       Strength\n",
              "0                           Cofsils Cough Syrup  ...  Not Available\n",
              "1             Nicogum 2 Mini Lozenges Mint Plus  ...  Not Available\n",
              "2  Nicogum 4 Nicotine Gum Fresh Mint Sugar Free  ...  Not Available\n",
              "3                            Nicotex 21mg Patch  ...           21mg\n",
              "4   Nicotex 4mg Chewing Gums Classic Fresh Mint  ...            4mg\n",
              "\n",
              "[5 rows x 10 columns]"
            ]
          },
          "metadata": {
            "tags": []
          },
          "execution_count": 18
        }
      ]
    },
    {
      "cell_type": "code",
      "metadata": {
        "id": "bBQmcNojVn8f",
        "outputId": "9c679040-21b9-44d9-a5fb-605ba2c64345",
        "colab": {
          "base_uri": "https://localhost:8080/",
          "height": 296
        }
      },
      "source": [
        "data2.head()"
      ],
      "execution_count": 19,
      "outputs": [
        {
          "output_type": "execute_result",
          "data": {
            "text/html": [
              "<div>\n",
              "<style scoped>\n",
              "    .dataframe tbody tr th:only-of-type {\n",
              "        vertical-align: middle;\n",
              "    }\n",
              "\n",
              "    .dataframe tbody tr th {\n",
              "        vertical-align: top;\n",
              "    }\n",
              "\n",
              "    .dataframe thead th {\n",
              "        text-align: right;\n",
              "    }\n",
              "</style>\n",
              "<table border=\"1\" class=\"dataframe\">\n",
              "  <thead>\n",
              "    <tr style=\"text-align: right;\">\n",
              "      <th></th>\n",
              "      <th>medName</th>\n",
              "      <th>manufacturer</th>\n",
              "      <th>onemg_price</th>\n",
              "      <th>Ingredients</th>\n",
              "      <th>Prescription Required</th>\n",
              "      <th>Units in Pack</th>\n",
              "      <th>Pack Size</th>\n",
              "      <th>Stock</th>\n",
              "      <th>Pack Form</th>\n",
              "      <th>Strength</th>\n",
              "    </tr>\n",
              "  </thead>\n",
              "  <tbody>\n",
              "    <tr>\n",
              "      <th>0</th>\n",
              "      <td>Cofsils Cough Syrup</td>\n",
              "      <td>Cipla Health Ltd</td>\n",
              "      <td>â‚¹69.7</td>\n",
              "      <td>Diphenhydramine (14.08mg/5ml) + Ammonium Chlor...</td>\n",
              "      <td>Yes</td>\n",
              "      <td>1</td>\n",
              "      <td>100</td>\n",
              "      <td>Yes</td>\n",
              "      <td>Bottle</td>\n",
              "      <td>Not Available</td>\n",
              "    </tr>\n",
              "    <tr>\n",
              "      <th>1</th>\n",
              "      <td>Nicogum 2 Mini Lozenges Mint Plus</td>\n",
              "      <td>Cipla Health Ltd</td>\n",
              "      <td>â‚¹76.5</td>\n",
              "      <td>Nicotine (2mg)</td>\n",
              "      <td>Yes</td>\n",
              "      <td>1</td>\n",
              "      <td>10</td>\n",
              "      <td>No</td>\n",
              "      <td>Strip</td>\n",
              "      <td>Not Available</td>\n",
              "    </tr>\n",
              "    <tr>\n",
              "      <th>2</th>\n",
              "      <td>Nicogum 4 Nicotine Gum Fresh Mint Sugar Free</td>\n",
              "      <td>Cipla Health Ltd</td>\n",
              "      <td>â‚¹74.8</td>\n",
              "      <td>Nicotine (4mg)</td>\n",
              "      <td>Yes</td>\n",
              "      <td>1</td>\n",
              "      <td>10</td>\n",
              "      <td>No</td>\n",
              "      <td>Packet</td>\n",
              "      <td>Not Available</td>\n",
              "    </tr>\n",
              "    <tr>\n",
              "      <th>3</th>\n",
              "      <td>Nicotex 21mg Patch</td>\n",
              "      <td>Cipla Health Ltd</td>\n",
              "      <td>â‚¹637.5</td>\n",
              "      <td>Nicotine (21mg)</td>\n",
              "      <td>Yes</td>\n",
              "      <td>1</td>\n",
              "      <td>7</td>\n",
              "      <td>No</td>\n",
              "      <td>Packet</td>\n",
              "      <td>21mg</td>\n",
              "    </tr>\n",
              "    <tr>\n",
              "      <th>4</th>\n",
              "      <td>Nicotex 4mg Chewing Gums Classic Fresh Mint</td>\n",
              "      <td>Cipla Health Ltd</td>\n",
              "      <td>â‚¹74.8</td>\n",
              "      <td>Nicotine (4mg)</td>\n",
              "      <td>Yes</td>\n",
              "      <td>1</td>\n",
              "      <td>9</td>\n",
              "      <td>No</td>\n",
              "      <td>Packet</td>\n",
              "      <td>4mg</td>\n",
              "    </tr>\n",
              "  </tbody>\n",
              "</table>\n",
              "</div>"
            ],
            "text/plain": [
              "                                        medName  ...       Strength\n",
              "0                           Cofsils Cough Syrup  ...  Not Available\n",
              "1             Nicogum 2 Mini Lozenges Mint Plus  ...  Not Available\n",
              "2  Nicogum 4 Nicotine Gum Fresh Mint Sugar Free  ...  Not Available\n",
              "3                            Nicotex 21mg Patch  ...           21mg\n",
              "4   Nicotex 4mg Chewing Gums Classic Fresh Mint  ...            4mg\n",
              "\n",
              "[5 rows x 10 columns]"
            ]
          },
          "metadata": {
            "tags": []
          },
          "execution_count": 19
        }
      ]
    },
    {
      "cell_type": "code",
      "metadata": {
        "id": "MCd9tl-ohD9o",
        "outputId": "7e1b0bbf-1c9f-4e30-d795-c780e1f24048",
        "colab": {
          "base_uri": "https://localhost:8080/",
          "height": 34
        }
      },
      "source": [
        "len(data1), len(data2)"
      ],
      "execution_count": 20,
      "outputs": [
        {
          "output_type": "execute_result",
          "data": {
            "text/plain": [
              "(4424, 4424)"
            ]
          },
          "metadata": {
            "tags": []
          },
          "execution_count": 20
        }
      ]
    },
    {
      "cell_type": "code",
      "metadata": {
        "id": "Nrt5Dn7gcLz9",
        "outputId": "442333e5-50cd-41bc-a394-abcf91ea315a",
        "colab": {
          "base_uri": "https://localhost:8080/",
          "height": 423
        }
      },
      "source": [
        "!python -m spacy download en_core_web_lg"
      ],
      "execution_count": 21,
      "outputs": [
        {
          "output_type": "stream",
          "text": [
            "Requirement already satisfied: en_core_web_lg==2.2.5 from https://github.com/explosion/spacy-models/releases/download/en_core_web_lg-2.2.5/en_core_web_lg-2.2.5.tar.gz#egg=en_core_web_lg==2.2.5 in /usr/local/lib/python3.6/dist-packages (2.2.5)\n",
            "Requirement already satisfied: spacy>=2.2.2 in /usr/local/lib/python3.6/dist-packages (from en_core_web_lg==2.2.5) (2.2.4)\n",
            "Requirement already satisfied: plac<1.2.0,>=0.9.6 in /usr/local/lib/python3.6/dist-packages (from spacy>=2.2.2->en_core_web_lg==2.2.5) (1.1.3)\n",
            "Requirement already satisfied: cymem<2.1.0,>=2.0.2 in /usr/local/lib/python3.6/dist-packages (from spacy>=2.2.2->en_core_web_lg==2.2.5) (2.0.3)\n",
            "Requirement already satisfied: wasabi<1.1.0,>=0.4.0 in /usr/local/lib/python3.6/dist-packages (from spacy>=2.2.2->en_core_web_lg==2.2.5) (0.8.0)\n",
            "Requirement already satisfied: numpy>=1.15.0 in /usr/local/lib/python3.6/dist-packages (from spacy>=2.2.2->en_core_web_lg==2.2.5) (1.18.5)\n",
            "Requirement already satisfied: tqdm<5.0.0,>=4.38.0 in /usr/local/lib/python3.6/dist-packages (from spacy>=2.2.2->en_core_web_lg==2.2.5) (4.41.1)\n",
            "Requirement already satisfied: murmurhash<1.1.0,>=0.28.0 in /usr/local/lib/python3.6/dist-packages (from spacy>=2.2.2->en_core_web_lg==2.2.5) (1.0.2)\n",
            "Requirement already satisfied: catalogue<1.1.0,>=0.0.7 in /usr/local/lib/python3.6/dist-packages (from spacy>=2.2.2->en_core_web_lg==2.2.5) (1.0.0)\n",
            "Requirement already satisfied: setuptools in /usr/local/lib/python3.6/dist-packages (from spacy>=2.2.2->en_core_web_lg==2.2.5) (50.3.0)\n",
            "Requirement already satisfied: blis<0.5.0,>=0.4.0 in /usr/local/lib/python3.6/dist-packages (from spacy>=2.2.2->en_core_web_lg==2.2.5) (0.4.1)\n",
            "Requirement already satisfied: requests<3.0.0,>=2.13.0 in /usr/local/lib/python3.6/dist-packages (from spacy>=2.2.2->en_core_web_lg==2.2.5) (2.23.0)\n",
            "Requirement already satisfied: thinc==7.4.0 in /usr/local/lib/python3.6/dist-packages (from spacy>=2.2.2->en_core_web_lg==2.2.5) (7.4.0)\n",
            "Requirement already satisfied: srsly<1.1.0,>=1.0.2 in /usr/local/lib/python3.6/dist-packages (from spacy>=2.2.2->en_core_web_lg==2.2.5) (1.0.2)\n",
            "Requirement already satisfied: preshed<3.1.0,>=3.0.2 in /usr/local/lib/python3.6/dist-packages (from spacy>=2.2.2->en_core_web_lg==2.2.5) (3.0.2)\n",
            "Requirement already satisfied: importlib-metadata>=0.20; python_version < \"3.8\" in /usr/local/lib/python3.6/dist-packages (from catalogue<1.1.0,>=0.0.7->spacy>=2.2.2->en_core_web_lg==2.2.5) (2.0.0)\n",
            "Requirement already satisfied: urllib3!=1.25.0,!=1.25.1,<1.26,>=1.21.1 in /usr/local/lib/python3.6/dist-packages (from requests<3.0.0,>=2.13.0->spacy>=2.2.2->en_core_web_lg==2.2.5) (1.24.3)\n",
            "Requirement already satisfied: certifi>=2017.4.17 in /usr/local/lib/python3.6/dist-packages (from requests<3.0.0,>=2.13.0->spacy>=2.2.2->en_core_web_lg==2.2.5) (2020.6.20)\n",
            "Requirement already satisfied: chardet<4,>=3.0.2 in /usr/local/lib/python3.6/dist-packages (from requests<3.0.0,>=2.13.0->spacy>=2.2.2->en_core_web_lg==2.2.5) (3.0.4)\n",
            "Requirement already satisfied: idna<3,>=2.5 in /usr/local/lib/python3.6/dist-packages (from requests<3.0.0,>=2.13.0->spacy>=2.2.2->en_core_web_lg==2.2.5) (2.10)\n",
            "Requirement already satisfied: zipp>=0.5 in /usr/local/lib/python3.6/dist-packages (from importlib-metadata>=0.20; python_version < \"3.8\"->catalogue<1.1.0,>=0.0.7->spacy>=2.2.2->en_core_web_lg==2.2.5) (3.2.0)\n",
            "\u001b[38;5;2m✔ Download and installation successful\u001b[0m\n",
            "You can now load the model via spacy.load('en_core_web_lg')\n"
          ],
          "name": "stdout"
        }
      ]
    },
    {
      "cell_type": "code",
      "metadata": {
        "id": "WHobJmWPVt_S"
      },
      "source": [
        "import spacy"
      ],
      "execution_count": 22,
      "outputs": []
    },
    {
      "cell_type": "code",
      "metadata": {
        "id": "6onZQHOKYWRy"
      },
      "source": [
        "nlp = spacy.load('en_core_web_lg')"
      ],
      "execution_count": 23,
      "outputs": []
    },
    {
      "cell_type": "code",
      "metadata": {
        "id": "N46h_TgTY1Gh"
      },
      "source": [
        "dictionary = {}\n",
        "for med1 in range(50):\n",
        "  for med2 in range(len(d2)):\n",
        "    m1 = data1.loc[med1, 'medName']\n",
        "    m2 = data2.loc[med2, 'medName']\n",
        "    if m1[0] != m2[0]:\n",
        "      continue\n",
        "    doc_m1 = nlp(m1)\n",
        "    doc_m2 = nlp(m2)\n",
        "    if doc_m1.similarity(doc_m2) > 0.90:\n",
        "      try:\n",
        "        dictionary[d1.loc[med1, 'medName']].append(d2.loc[med2, 'medName'])\n",
        "      except:\n",
        "        dictionary[d1.loc[med1, 'medName']] = [d2.loc[med2, 'medName']]"
      ],
      "execution_count": null,
      "outputs": []
    },
    {
      "cell_type": "code",
      "metadata": {
        "id": "FQvPEhqZb6hp",
        "outputId": "8e60ecda-e6b0-4709-92e2-010ee0656151",
        "colab": {
          "base_uri": "https://localhost:8080/",
          "height": 826
        }
      },
      "source": [
        "for i in dictionary:\n",
        "  print(dictionary[i])"
      ],
      "execution_count": 31,
      "outputs": [
        {
          "output_type": "stream",
          "text": [
            "['Cofsils Cough Syrup']\n",
            "['Nicogum 2 Mini Lozenges Mint Plus']\n",
            "['Nicogum 4 Nicotine Gum Fresh Mint Sugar Free', 'Nicotex 4mg Chewing Gums Sugar Free Fruity Mint', 'Nicotex 4mg Chewing Gums Sugar Free Mint Plus', 'Nicotex 4mg Chewing Gums Sugar Free Mint Plus', 'Nicotex 4mg Sugar Free Classic Chewing Gums Fresh Mint']\n",
            "['Nicotex 21mg Patch', 'Nicotex 7mg Patch']\n",
            "['Nicotex 4mg Chewing Gums Classic Fresh Mint', 'Nicotex 4mg Chewing Gums Sugar Free Fruity Mint', 'Nicotex 4mg Chewing Gums Sugar Free Mint Plus', 'Nicotex 4mg Chewing Gums Sugar Free Mint Plus', 'Nicotex 4mg Sugar Free Classic Chewing Gums Fresh Mint', 'Nicotex Classic Mint 4mg Chewing Gums', 'Nicotex Plus 4mg Chewing Gums Mint']\n",
            "['Nicotex 4mg Chewing Gums Paan', 'Nicotine Polacrilex 4mg Chewing Gums']\n",
            "['Nicotex 4mg Chewing Gums Sugar Free Cinnamon', 'Nicotex 4mg Chewing Gums Sugar Free Fruity Mint', 'Nicotex 4mg Chewing Gums Sugar Free Mint Plus', 'Nicotex 4mg Chewing Gums Sugar Free Mint Plus', 'Nicotex 4mg Sugar Free Classic Chewing Gums Fresh Mint', 'Nicotex Sugar Free 4mg Chewing Gums']\n",
            "['Nicogum 4 Nicotine Gum Fresh Mint Sugar Free', 'Nicotex 4mg Chewing Gums Classic Fresh Mint', 'Nicotex 4mg Chewing Gums Sugar Free Cinnamon', 'Nicotex 4mg Chewing Gums Sugar Free Fruity Mint', 'Nicotex 4mg Chewing Gums Sugar Free Mint Plus', 'Nicotex 4mg Chewing Gums Sugar Free Mint Plus', 'Nicotex 4mg Sugar Free Classic Chewing Gums Fresh Mint', 'Nicotex Classic Mint 4mg Chewing Gums', 'Nicotex Plus 4mg Chewing Gums Mint', 'Nicotex Sugar Free 4mg Chewing Gums']\n",
            "['Nicogum 4 Nicotine Gum Fresh Mint Sugar Free', 'Nicotex 4mg Chewing Gums Classic Fresh Mint', 'Nicotex 4mg Chewing Gums Sugar Free Cinnamon', 'Nicotex 4mg Chewing Gums Sugar Free Fruity Mint', 'Nicotex 4mg Chewing Gums Sugar Free Mint Plus', 'Nicotex 4mg Chewing Gums Sugar Free Mint Plus', 'Nicotex 4mg Sugar Free Classic Chewing Gums Fresh Mint', 'Nicotex Classic Mint 4mg Chewing Gums', 'Nicotex Plus 4mg Chewing Gums Mint', 'Nicotex Plus 4mg Chewing Gums Mint Plus', 'Nicotex Sugar Free 4mg Chewing Gums', 'Nicogum 4 Nicotine Gum Fresh Mint Sugar Free', 'Nicotex 4mg Chewing Gums Classic Fresh Mint', 'Nicotex 4mg Chewing Gums Sugar Free Cinnamon', 'Nicotex 4mg Chewing Gums Sugar Free Fruity Mint', 'Nicotex 4mg Chewing Gums Sugar Free Mint Plus', 'Nicotex 4mg Chewing Gums Sugar Free Mint Plus', 'Nicotex 4mg Sugar Free Classic Chewing Gums Fresh Mint', 'Nicotex Classic Mint 4mg Chewing Gums', 'Nicotex Plus 4mg Chewing Gums Mint', 'Nicotex Plus 4mg Chewing Gums Mint Plus', 'Nicotex Sugar Free 4mg Chewing Gums']\n",
            "['Nicogum 4 Nicotine Gum Fresh Mint Sugar Free', 'Nicotex 4mg Chewing Gums Classic Fresh Mint', 'Nicotex 4mg Chewing Gums Sugar Free Cinnamon', 'Nicotex 4mg Chewing Gums Sugar Free Fruity Mint', 'Nicotex 4mg Chewing Gums Sugar Free Mint Plus', 'Nicotex 4mg Chewing Gums Sugar Free Mint Plus', 'Nicotex 4mg Sugar Free Classic Chewing Gums Fresh Mint', 'Nicotex Classic Mint 4mg Chewing Gums', 'Nicotex Plus 4mg Chewing Gums Mint', 'Nicotex Sugar Free 4mg Chewing Gums']\n",
            "['Nicotex 4mg with Teeth Whitening Mint Plus']\n",
            "['Nicotex 21mg Patch', 'Nicotex 7mg Patch']\n",
            "['Nicotex 4mg Chewing Gums Classic Fresh Mint', 'Nicotex 4mg Chewing Gums Sugar Free Fruity Mint', 'Nicotex 4mg Chewing Gums Sugar Free Mint Plus', 'Nicotex 4mg Chewing Gums Sugar Free Mint Plus', 'Nicotex 4mg Sugar Free Classic Chewing Gums Fresh Mint', 'Nicotex Classic Mint 4mg Chewing Gums', 'Nicotex Plus 4mg Chewing Gums Mint', 'Nicotex Plus 4mg Chewing Gums Mint Plus']\n",
            "['Nicotex 4mg Chewing Gums Classic Fresh Mint', 'Nicotex 4mg Chewing Gums Sugar Free Fruity Mint', 'Nicotex 4mg Chewing Gums Sugar Free Mint Plus', 'Nicotex 4mg Chewing Gums Sugar Free Mint Plus', 'Nicotex 4mg Sugar Free Classic Chewing Gums Fresh Mint', 'Nicotex Classic Mint 4mg Chewing Gums', 'Nicotex Plus 4mg Chewing Gums Mint', 'Nicotex Plus 4mg Chewing Gums Mint Plus', 'Nicotex Sugar Free 4mg Chewing Gums']\n",
            "['Nicotex 4mg Chewing Gums Sugar Free Mint Plus', 'Nicotex 4mg Chewing Gums Sugar Free Mint Plus', 'Nicotex Classic Mint 4mg Chewing Gums', 'Nicotex Plus 4mg Chewing Gums Mint', 'Nicotex Plus 4mg Chewing Gums Mint Plus']\n",
            "['Nicotex 4mg Chewing Gums Sugar Free Cinnamon', 'Nicotex 4mg Chewing Gums Sugar Free Fruity Mint', 'Nicotex 4mg Chewing Gums Sugar Free Mint Plus', 'Nicotex 4mg Chewing Gums Sugar Free Mint Plus', 'Nicotex 4mg Sugar Free Classic Chewing Gums Fresh Mint', 'Nicotex Plus 4mg Chewing Gums Mint', 'Nicotex Sugar Free 4mg Chewing Gums', 'Nicotine Polacrilex 4mg Chewing Gums']\n",
            "['ACIGENE  250MG/250MG/50MG ORAL GEL']\n",
            "['AEROCORT HFA 100 MCG/50 MCG INHALER', 'Aerotide 200 mcg/100 mcg Inhaler', 'Aerotide 200 mcg/100 mcg Inhaler']\n",
            "['ALERGIN L TABLET', 'Amlopres L Tablet']\n",
            "['ALIANZ 100 MG/20 MG CAPSULE', 'AMPISYN 250 MG CAPSULE', 'AMPISYN 500 MG CAPSULE', 'Androfil 40mg Capsule', 'Antiflu 75mg Capsule', 'Atavir 300mg Capsule', 'ACMIL 25 MG CAPSULE', 'Acmil 50mg Capsule', 'Acrotac 10mg Capsule', 'Acrotac 25mg Capsule', 'Altraflam 200mg Capsule SR', 'Altraflam 200mg Capsule SR', 'Angizem DP 60mg Capsule', 'Artisid 25mg Capsule', 'Artisid 50mg Capsule', 'Attentrol 10mg Capsule', 'Attentrol 25mg Capsule', 'Attentrol 40mg Capsule']\n",
            "['AMLOPRES-VL 5MG/160MG TABLET', 'AMLOPRES-VL 5MG/80MG TABLET']\n",
            "['AMLOPRES-VL 5MG/160MG TABLET', 'AMLOPRES-VL 5MG/80MG TABLET']\n",
            "['ALIANZ 100 MG/20 MG CAPSULE', 'AMPISYN 250 MG CAPSULE', 'AMPISYN 500 MG CAPSULE', 'Androfil 40mg Capsule', 'Antiflu 75mg Capsule', 'Atavir 300mg Capsule', 'ACMIL 25 MG CAPSULE', 'Acmil 50mg Capsule', 'Acrotac 10mg Capsule', 'Acrotac 25mg Capsule', 'Altraflam 200mg Capsule SR', 'Altraflam 200mg Capsule SR', 'Artisid 25mg Capsule', 'Artisid 50mg Capsule', 'Attentrol 10mg Capsule', 'Attentrol 25mg Capsule', 'Attentrol 40mg Capsule']\n",
            "['ALIANZ 100 MG/20 MG CAPSULE', 'AMPISYN 250 MG CAPSULE', 'AMPISYN 500 MG CAPSULE', 'Androfil 40mg Capsule', 'Antiflu 75mg Capsule', 'Atavir 300mg Capsule', 'ACMIL 25 MG CAPSULE', 'Acmil 50mg Capsule', 'Acrotac 10mg Capsule', 'Acrotac 25mg Capsule', 'Altraflam 200mg Capsule SR', 'Altraflam 200mg Capsule SR', 'Amx 500mg Capsule', 'Artisid 25mg Capsule', 'Artisid 50mg Capsule', 'Attentrol 10mg Capsule', 'Attentrol 25mg Capsule', 'Attentrol 40mg Capsule']\n",
            "['AZEEMUNE 500MG TABLET']\n",
            "['Abamune L 600 mg/300 mg Tablet', 'Acemax 250mg Tablet', 'Actiflu 500mg Tablet', 'Actiflu 500mg Tablet', 'Alerfex 120mg Tablet', 'Alrik 100mg Tablet', 'Alrik 300mg Tablet', 'Azimax 200mg Tablet DT', 'Azimed 250mg Tablet', 'Azimed 500mg Tablet', 'Azmarda 100mg Tablet', 'Azmarda 200mg Tablet', 'Azomycin 500mg Tablet', 'Afenak 100mg Tablet', 'Afenak 100mg Tablet', 'Altiva 120mg Tablet', 'Altiva 180mg Tablet', 'Androxil 250mg Tablet', 'Androxil 250mg Tablet', 'Artagen 250mg Tablet', 'Azax 200mg Tablet']\n",
            "['Abamune Tablet', 'Alerid Tablet', 'Amantrel Tablet', 'Armotraz Tablet', 'Assurans Tablet', 'Assurans Tablet', 'ALBAXY TABLET', 'AMANAT 10MG TABLET', 'AMPREZ 10MG TABLET', 'ARAVON TABLET', 'Acamprol Tablet', 'Actapro Tablet', 'Actapro Tablet', 'Adcapone Tablet', 'Agoprex Tablet', 'Alcoliv Tablet', 'Alfence Tablet', 'Amlobet Tablet', 'Anabrez Tablet', 'Azemo Tablet']\n",
            "['Acarcip 25 Tablet', 'Acarcip 50 Tablet', 'Amlip 10 Tablet', 'Amlopres 10 Tablet', 'Atorlip 10 Tablet', 'Atorlip 20 Tablet', 'Atorlip 40 Tablet', 'Admenta 10 Tablet', 'Amival 50 Tablet', 'Amlosun 10 Tablet', 'Anxozap 10 Tablet', 'Anxozap 15 Tablet', 'Anxozap 30 Tablet', 'Aquazide 25 Tablet', 'Arpizol 10 Tablet', 'Arpizol 15 Tablet', 'Arpizol 20 Tablet', 'Arpizol 30 Tablet', 'Aztolet  10 Tablet', 'Aztolet  20 Tablet', 'Aztor 10 Tablet', 'Aztor 20 Tablet', 'Aztor 20 Tablet', 'Aztor 40 Tablet', 'Aztor 40 Tablet']\n",
            "['Acarcip 25 Tablet', 'Acarcip 50 Tablet', 'Atorlip 20 Tablet', 'Atorlip 40 Tablet', 'Atorlip 80 Tablet', 'Azmarda 50mg Tablet', 'Adesam 200 Tablet', 'Aldorace 50mg Tablet', 'Amival 100 Tablet', 'Amival 200 Tablet', 'Amival 50 Tablet', 'Androblok 50mg Tablet', 'Anxozap 30 Tablet', 'Aquazide 25 Tablet', 'Arpizol 20 Tablet', 'Arpizol 30 Tablet', 'Azimune 50mg Tablet', 'Aztolet  20 Tablet', 'Aztor 20 Tablet', 'Aztor 20 Tablet', 'Aztor 40 Tablet', 'Aztor 40 Tablet', 'Aztor 80 Tablet']\n",
            "['Aceflex Plus 100 mg/500 mg Tablet', 'Acemax 250mg Tablet', 'Actiflu 500mg Tablet', 'Actiflu 500mg Tablet', 'Adesera 10mg Tablet', 'Alerfex 120mg Tablet', 'Alergin 10mg Tablet', 'Alrik 100mg Tablet', 'Alrik 300mg Tablet', 'Amcold 5 mg/60 mg Tablet', 'Azee 100mg Tablet DT', 'Azimed 250mg Tablet', 'Azimed 500mg Tablet', 'Azipro 100mg Tablet DT', 'Azipro 100mg Tablet DT', 'Azmarda 100mg Tablet', 'Azmarda 200mg Tablet', 'Azmarda 50mg Tablet', 'Azomycin 500mg Tablet', 'Actizo 20 mg/120 mg Tablet', 'Actizo 80 mg/480 mg Tablet', 'Addwize 10mg Tablet', 'Adfovir 10mg Tablet', 'Adheb 10mg Tablet', 'Afenak 100mg Tablet', 'Afenak 100mg Tablet', 'Agodep 25mg Tablet', 'Aldorace 50mg Tablet', 'Almantin 5mg Tablet', 'Alovent 5mg Tablet', 'Altiva 120mg Tablet', 'Altiva 180mg Tablet', 'Altiva 30mg Tablet', 'Amanat 5mg Tablet', 'Amditor 5 mg/10 mg Tablet', 'Amixide 10mg Tablet', 'Androblok 50mg Tablet', 'Androxil 250mg Tablet', 'Androxil 250mg Tablet', 'Aquamide 20 mg/50 mg Tablet', 'Aripra 10mg Tablet', 'Aripra 15mg Tablet', 'Artagen 250mg Tablet', 'Aspent 60mg Tablet', 'Aspent 60mg Tablet', 'Attentrol 15mg Tablet', 'Avacard 5mg Tablet', 'Axcer  60mg Tablet', 'Axcer  90mg Tablet', 'Axcer  90mg Tablet', 'Azax 200mg Tablet', 'Azimune 50mg Tablet', 'Aztatin 10mg Tablet', 'Aztatin 20mg Tablet']\n",
            "['Abamune L 600 mg/300 mg Tablet', 'Aceflex Plus 100 mg/500 mg Tablet', 'Acemax 250mg Tablet', 'Actiflu 500mg Tablet', 'Actiflu 500mg Tablet', 'Adesera 10mg Tablet', 'Alerfex 120mg Tablet', 'Alergin 10mg Tablet', 'Alrik 100mg Tablet', 'Alrik 300mg Tablet', 'Amcold 5 mg/60 mg Tablet', 'Apenorm 4mg Tablet', 'Azee 100mg Tablet DT', 'Azee 250 Tablet', 'Azee 250 Tablet', 'Azicip 250 Tablet', 'Azicip 250 Tablet', 'Azimax 200mg Tablet DT', 'Azimax 250 Tablet', 'Azimed 250mg Tablet', 'Azimed 500mg Tablet', 'Azipro 100mg Tablet DT', 'Azipro 100mg Tablet DT', 'Azipro 250 Tablet', 'Azmarda 100mg Tablet', 'Azmarda 200mg Tablet', 'Azmarda 50mg Tablet', 'Azomycin 500mg Tablet', 'ALZOLAM 1.5 MG TABLET SR', 'Actizo 20 mg/120 mg Tablet', 'Actizo 40mg/240mg Tablet', 'Actizo 80 mg/480 mg Tablet', 'Addwize 10mg Tablet', 'Adfovir 10mg Tablet', 'Adheb 10mg Tablet', 'Adiuretin 0.1mg Tablet', 'Adiuretin 0.2mg Tablet', 'Adpace 2 mg/50 mg Tablet', 'Adpace 2 mg/50 mg Tablet', 'Adpace 4 mg/50 mg Tablet', 'Afenak 100mg Tablet', 'Afenak 100mg Tablet', 'Agodep 25mg Tablet', 'Aldorace 50mg Tablet', 'Almantin 5mg Tablet', 'Alovent 5mg Tablet', 'Altiva 120mg Tablet', 'Altiva 180mg Tablet', 'Altiva 30mg Tablet', 'Alzolam 0.25mg Tablet', 'Alzolam 0.5mg Tablet', 'Alzolam 0.75mg Tablet', 'Alzolam 1mg Tablet', 'Amanat 5mg Tablet', 'Amditor 5 mg/10 mg Tablet', 'Amixide 10mg Tablet', 'Amixide 25mg/10mg Tablet', 'Amx 250mg Tablet', 'Androblok 50mg Tablet', 'Androxil 250mg Tablet', 'Androxil 250mg Tablet', 'Anxinil 0.5mg Tablet', 'Aquamide 20 mg/50 mg Tablet', 'Aripra 10mg Tablet', 'Aripra 15mg Tablet', 'Arpizol 2mg Tablet', 'Artagen 250mg Tablet', 'Aspent 60mg Tablet', 'Aspent 60mg Tablet', 'Attentrol 15mg Tablet', 'Avacard 5mg Tablet', 'Axcer  60mg Tablet', 'Axcer  90mg Tablet', 'Axcer  90mg Tablet', 'Azax 200mg Tablet', 'Azax 250 Tablet', 'Azimune 50mg Tablet', 'Aztatin 10mg Tablet', 'Aztatin 20mg Tablet']\n",
            "['Acivir 200 DT Tablet', 'Acivir 400 DT Tablet', 'Acivir 800 DT Tablet', 'Azee 200 DT Tablet', 'Azimax 200mg Tablet DT']\n",
            "['Acivir 200 DT Tablet', 'Acivir 400 DT Tablet', 'Acivir 800 DT Tablet', 'Azee 200 DT Tablet', 'Azimax 200mg Tablet DT']\n",
            "['Acivir 500 Infusion']\n",
            "['Acivir 200 DT Tablet', 'Acivir 400 DT Tablet', 'Acivir 800 DT Tablet', 'Azee 200 DT Tablet']\n",
            "['Acivir Cream', 'Acivir Cream', 'Auxerg Cream', 'Acivir Cream', 'Acivir Cream', 'Auxerg Cream']\n",
            "['Acivir Eye Drop', 'Ataron Eye Drop', 'Azelast Eye Drop']\n",
            "['Acivir Eye Ointment', 'Acyclovir Eye Ointment']\n",
            "['Acivir IV Injection']\n",
            "['Aclene 0.10% Gel', 'Adaclene 0.1% Gel']\n",
            "['Acnedap Gel', 'Acneheal Gel', 'Androfil Gel']\n",
            "['Acnedap Plus Gel']\n",
            "['Acnedap Gel', 'Acneheal Gel', 'Androfil Gel']\n",
            "['Abamune L 600 mg/300 mg Tablet', 'Aceflex Plus 100 mg/500 mg Tablet', 'Acemax 250mg Tablet', 'Actiflu 500mg Tablet', 'Actiflu 500mg Tablet', 'Adesera 10mg Tablet', 'Alerfex 120mg Tablet', 'Alergin 10mg Tablet', 'Alrik 100mg Tablet', 'Alrik 300mg Tablet', 'Amcold 5 mg/60 mg Tablet', 'Apenorm 4mg Tablet', 'Azee 100mg Tablet DT', 'Azee 500 Tablet', 'Azee 500 Tablet', 'Azicip 500 Tablet', 'Azimax 200mg Tablet DT', 'Azimax 500 Tablet', 'Azimax 500 Tablet', 'Azimed 250mg Tablet', 'Azimed 500mg Tablet', 'Azipro 100mg Tablet DT', 'Azipro 100mg Tablet DT', 'Azipro 500 Tablet', 'Azmarda 100mg Tablet', 'Azmarda 200mg Tablet', 'Azmarda 50mg Tablet', 'Azomycin 500mg Tablet', 'Actizo 20 mg/120 mg Tablet', 'Actizo 40mg/240mg Tablet', 'Actizo 80 mg/480 mg Tablet', 'Addwize 10mg Tablet', 'Adfovir 10mg Tablet', 'Adheb 10mg Tablet', 'Adiuretin 0.1mg Tablet', 'Adiuretin 0.2mg Tablet', 'Adpace 2 mg/50 mg Tablet', 'Adpace 2 mg/50 mg Tablet', 'Adpace 4 mg/50 mg Tablet', 'Afenak 100mg Tablet', 'Afenak 100mg Tablet', 'Agodep 25mg Tablet', 'Aldorace 50mg Tablet', 'Almantin 5mg Tablet', 'Alovent 5mg Tablet', 'Altiva 120mg Tablet', 'Altiva 180mg Tablet', 'Altiva 30mg Tablet', 'Alzolam 0.25mg Tablet', 'Alzolam 0.5mg Tablet', 'Alzolam 1mg Tablet', 'Amanat 5mg Tablet', 'Amditor 5 mg/10 mg Tablet', 'Amixide 10mg Tablet', 'Amixide 25mg/10mg Tablet', 'Androblok 50mg Tablet', 'Androxil 250mg Tablet', 'Androxil 250mg Tablet', 'Anxinil 0.5mg Tablet', 'Aquamide 20 mg/50 mg Tablet', 'Aripra 10mg Tablet', 'Aripra 15mg Tablet', 'Arpizol 2mg Tablet', 'Artagen 250mg Tablet', 'Aspent 60mg Tablet', 'Aspent 60mg Tablet', 'Attentrol 15mg Tablet', 'Avacard 5mg Tablet', 'Axcer  60mg Tablet', 'Axcer  90mg Tablet', 'Axcer  90mg Tablet', 'Azax 200mg Tablet', 'Azax 500 Tablet', 'Azimune 50mg Tablet', 'Aztatin 10mg Tablet', 'Aztatin 20mg Tablet', 'Abamune L 600 mg/300 mg Tablet', 'Aceflex Plus 100 mg/500 mg Tablet', 'Acemax 250mg Tablet', 'Actiflu 500mg Tablet', 'Actiflu 500mg Tablet', 'Adesera 10mg Tablet', 'Alerfex 120mg Tablet', 'Alergin 10mg Tablet', 'Alrik 100mg Tablet', 'Alrik 300mg Tablet', 'Amcold 5 mg/60 mg Tablet', 'Apenorm 4mg Tablet', 'Azee 100mg Tablet DT', 'Azee 500 Tablet', 'Azee 500 Tablet', 'Azicip 500 Tablet', 'Azimax 200mg Tablet DT', 'Azimax 500 Tablet', 'Azimax 500 Tablet', 'Azimed 250mg Tablet', 'Azimed 500mg Tablet', 'Azipro 100mg Tablet DT', 'Azipro 100mg Tablet DT', 'Azipro 500 Tablet', 'Azmarda 100mg Tablet', 'Azmarda 200mg Tablet', 'Azmarda 50mg Tablet', 'Azomycin 500mg Tablet', 'Actizo 20 mg/120 mg Tablet', 'Actizo 40mg/240mg Tablet', 'Actizo 80 mg/480 mg Tablet', 'Addwize 10mg Tablet', 'Adfovir 10mg Tablet', 'Adheb 10mg Tablet', 'Adiuretin 0.1mg Tablet', 'Adiuretin 0.2mg Tablet', 'Adpace 2 mg/50 mg Tablet', 'Adpace 2 mg/50 mg Tablet', 'Adpace 4 mg/50 mg Tablet', 'Afenak 100mg Tablet', 'Afenak 100mg Tablet', 'Agodep 25mg Tablet', 'Aldorace 50mg Tablet', 'Almantin 5mg Tablet', 'Alovent 5mg Tablet', 'Altiva 120mg Tablet', 'Altiva 180mg Tablet', 'Altiva 30mg Tablet', 'Alzolam 0.25mg Tablet', 'Alzolam 0.5mg Tablet', 'Alzolam 1mg Tablet', 'Amanat 5mg Tablet', 'Amditor 5 mg/10 mg Tablet', 'Amixide 10mg Tablet', 'Amixide 25mg/10mg Tablet', 'Androblok 50mg Tablet', 'Androxil 250mg Tablet', 'Androxil 250mg Tablet', 'Anxinil 0.5mg Tablet', 'Aquamide 20 mg/50 mg Tablet', 'Aripra 10mg Tablet', 'Aripra 15mg Tablet', 'Arpizol 2mg Tablet', 'Artagen 250mg Tablet', 'Aspent 60mg Tablet', 'Aspent 60mg Tablet', 'Attentrol 15mg Tablet', 'Avacard 5mg Tablet', 'Axcer  60mg Tablet', 'Axcer  90mg Tablet', 'Axcer  90mg Tablet', 'Azax 200mg Tablet', 'Azax 500 Tablet', 'Azimune 50mg Tablet', 'Aztatin 10mg Tablet', 'Aztatin 20mg Tablet']\n",
            "['Actiflu Syrup', 'Alerid Syrup', 'Alerid Syrup', 'Alkacip Syrup', 'Amcold Syrup', 'Asthalin Syrup', 'Absenz Syrup', 'Acelast 50mg/5ml Syrup', 'Aqualac Syrup']\n",
            "['Actorise 100 Injection', 'Actorise 200 Injection', 'Actorise 60 Injection']\n",
            "['Actorise 100 Injection', 'Actorise 200 Injection', 'Azee 500 Injection']\n"
          ],
          "name": "stdout"
        }
      ]
    },
    {
      "cell_type": "code",
      "metadata": {
        "id": "9c1v1XZVfXF7"
      },
      "source": [
        "with open(\"output1.txt\",\"w\") as f:\n",
        "  for i in dictionary:\n",
        "    s=i+'::'+','.join(dictionary[i])+'\\n'\n",
        "    f.write(s)\n",
        "f.close()"
      ],
      "execution_count": 29,
      "outputs": []
    },
    {
      "cell_type": "code",
      "metadata": {
        "id": "o8LOqt5ETcYh"
      },
      "source": [
        ""
      ],
      "execution_count": null,
      "outputs": []
    }
  ]
}