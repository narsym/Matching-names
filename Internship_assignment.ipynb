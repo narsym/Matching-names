{
  "nbformat": 4,
  "nbformat_minor": 0,
  "metadata": {
    "colab": {
      "name": "Internship assignment.ipynb",
      "provenance": [],
      "collapsed_sections": [],
      "include_colab_link": true
    },
    "kernelspec": {
      "name": "python3",
      "display_name": "Python 3"
    },
    "accelerator": "GPU"
  },
  "cells": [
    {
      "cell_type": "markdown",
      "metadata": {
        "id": "view-in-github",
        "colab_type": "text"
      },
      "source": [
        "<a href=\"https://colab.research.google.com/github/narsym/Matching-names/blob/main/Internship_assignment.ipynb\" target=\"_parent\"><img src=\"https://colab.research.google.com/assets/colab-badge.svg\" alt=\"Open In Colab\"/></a>"
      ]
    },
    {
      "cell_type": "code",
      "metadata": {
        "id": "Cy6xu6jvSDLu"
      },
      "source": [
        "import pandas as pd\n",
        "data1 = pd.read_excel('https://github.com/narsym/Matching-names/blob/main/Dataset%20O.xlsx?raw=true')\n",
        "data2 = pd.read_excel('https://github.com/narsym/Matching-names/blob/main/Dataset%20O.xlsx?raw=true')"
      ],
      "execution_count": 1,
      "outputs": []
    },
    {
      "cell_type": "code",
      "metadata": {
        "id": "0d0wldlXVwXQ",
        "outputId": "b4e1edd9-fc53-4feb-f5bc-e7a50460b26e",
        "colab": {
          "base_uri": "https://localhost:8080/",
          "height": 296
        }
      },
      "source": [
        "data1.head()"
      ],
      "execution_count": 2,
      "outputs": [
        {
          "output_type": "execute_result",
          "data": {
            "text/html": [
              "<div>\n",
              "<style scoped>\n",
              "    .dataframe tbody tr th:only-of-type {\n",
              "        vertical-align: middle;\n",
              "    }\n",
              "\n",
              "    .dataframe tbody tr th {\n",
              "        vertical-align: top;\n",
              "    }\n",
              "\n",
              "    .dataframe thead th {\n",
              "        text-align: right;\n",
              "    }\n",
              "</style>\n",
              "<table border=\"1\" class=\"dataframe\">\n",
              "  <thead>\n",
              "    <tr style=\"text-align: right;\">\n",
              "      <th></th>\n",
              "      <th>medName</th>\n",
              "      <th>manufacturer</th>\n",
              "      <th>onemg_price</th>\n",
              "      <th>Ingredients</th>\n",
              "      <th>Prescription Required</th>\n",
              "      <th>Units in Pack</th>\n",
              "      <th>Pack Size</th>\n",
              "      <th>Stock</th>\n",
              "      <th>Pack Form</th>\n",
              "      <th>Strength</th>\n",
              "    </tr>\n",
              "  </thead>\n",
              "  <tbody>\n",
              "    <tr>\n",
              "      <th>0</th>\n",
              "      <td>Cofsils Cough Syrup</td>\n",
              "      <td>Cipla Health Ltd</td>\n",
              "      <td>â‚¹69.7</td>\n",
              "      <td>Diphenhydramine (14.08mg/5ml) + Ammonium Chlor...</td>\n",
              "      <td>Yes</td>\n",
              "      <td>1</td>\n",
              "      <td>100</td>\n",
              "      <td>Yes</td>\n",
              "      <td>Bottle</td>\n",
              "      <td>Not Available</td>\n",
              "    </tr>\n",
              "    <tr>\n",
              "      <th>1</th>\n",
              "      <td>Nicogum 2 Mini Lozenges Mint Plus</td>\n",
              "      <td>Cipla Health Ltd</td>\n",
              "      <td>â‚¹76.5</td>\n",
              "      <td>Nicotine (2mg)</td>\n",
              "      <td>Yes</td>\n",
              "      <td>1</td>\n",
              "      <td>10</td>\n",
              "      <td>No</td>\n",
              "      <td>Strip</td>\n",
              "      <td>Not Available</td>\n",
              "    </tr>\n",
              "    <tr>\n",
              "      <th>2</th>\n",
              "      <td>Nicogum 4 Nicotine Gum Fresh Mint Sugar Free</td>\n",
              "      <td>Cipla Health Ltd</td>\n",
              "      <td>â‚¹74.8</td>\n",
              "      <td>Nicotine (4mg)</td>\n",
              "      <td>Yes</td>\n",
              "      <td>1</td>\n",
              "      <td>10</td>\n",
              "      <td>No</td>\n",
              "      <td>Packet</td>\n",
              "      <td>Not Available</td>\n",
              "    </tr>\n",
              "    <tr>\n",
              "      <th>3</th>\n",
              "      <td>Nicotex 21mg Patch</td>\n",
              "      <td>Cipla Health Ltd</td>\n",
              "      <td>â‚¹637.5</td>\n",
              "      <td>Nicotine (21mg)</td>\n",
              "      <td>Yes</td>\n",
              "      <td>1</td>\n",
              "      <td>7</td>\n",
              "      <td>No</td>\n",
              "      <td>Packet</td>\n",
              "      <td>21mg</td>\n",
              "    </tr>\n",
              "    <tr>\n",
              "      <th>4</th>\n",
              "      <td>Nicotex 4mg Chewing Gums Classic Fresh Mint</td>\n",
              "      <td>Cipla Health Ltd</td>\n",
              "      <td>â‚¹74.8</td>\n",
              "      <td>Nicotine (4mg)</td>\n",
              "      <td>Yes</td>\n",
              "      <td>1</td>\n",
              "      <td>9</td>\n",
              "      <td>No</td>\n",
              "      <td>Packet</td>\n",
              "      <td>4mg</td>\n",
              "    </tr>\n",
              "  </tbody>\n",
              "</table>\n",
              "</div>"
            ],
            "text/plain": [
              "                                        medName  ...       Strength\n",
              "0                           Cofsils Cough Syrup  ...  Not Available\n",
              "1             Nicogum 2 Mini Lozenges Mint Plus  ...  Not Available\n",
              "2  Nicogum 4 Nicotine Gum Fresh Mint Sugar Free  ...  Not Available\n",
              "3                            Nicotex 21mg Patch  ...           21mg\n",
              "4   Nicotex 4mg Chewing Gums Classic Fresh Mint  ...            4mg\n",
              "\n",
              "[5 rows x 10 columns]"
            ]
          },
          "metadata": {
            "tags": []
          },
          "execution_count": 2
        }
      ]
    },
    {
      "cell_type": "code",
      "metadata": {
        "id": "bBQmcNojVn8f",
        "outputId": "70f97dc0-57cd-436b-a251-eac6e8758ce9",
        "colab": {
          "base_uri": "https://localhost:8080/",
          "height": 296
        }
      },
      "source": [
        "data2.head()"
      ],
      "execution_count": 3,
      "outputs": [
        {
          "output_type": "execute_result",
          "data": {
            "text/html": [
              "<div>\n",
              "<style scoped>\n",
              "    .dataframe tbody tr th:only-of-type {\n",
              "        vertical-align: middle;\n",
              "    }\n",
              "\n",
              "    .dataframe tbody tr th {\n",
              "        vertical-align: top;\n",
              "    }\n",
              "\n",
              "    .dataframe thead th {\n",
              "        text-align: right;\n",
              "    }\n",
              "</style>\n",
              "<table border=\"1\" class=\"dataframe\">\n",
              "  <thead>\n",
              "    <tr style=\"text-align: right;\">\n",
              "      <th></th>\n",
              "      <th>medName</th>\n",
              "      <th>manufacturer</th>\n",
              "      <th>onemg_price</th>\n",
              "      <th>Ingredients</th>\n",
              "      <th>Prescription Required</th>\n",
              "      <th>Units in Pack</th>\n",
              "      <th>Pack Size</th>\n",
              "      <th>Stock</th>\n",
              "      <th>Pack Form</th>\n",
              "      <th>Strength</th>\n",
              "    </tr>\n",
              "  </thead>\n",
              "  <tbody>\n",
              "    <tr>\n",
              "      <th>0</th>\n",
              "      <td>Cofsils Cough Syrup</td>\n",
              "      <td>Cipla Health Ltd</td>\n",
              "      <td>â‚¹69.7</td>\n",
              "      <td>Diphenhydramine (14.08mg/5ml) + Ammonium Chlor...</td>\n",
              "      <td>Yes</td>\n",
              "      <td>1</td>\n",
              "      <td>100</td>\n",
              "      <td>Yes</td>\n",
              "      <td>Bottle</td>\n",
              "      <td>Not Available</td>\n",
              "    </tr>\n",
              "    <tr>\n",
              "      <th>1</th>\n",
              "      <td>Nicogum 2 Mini Lozenges Mint Plus</td>\n",
              "      <td>Cipla Health Ltd</td>\n",
              "      <td>â‚¹76.5</td>\n",
              "      <td>Nicotine (2mg)</td>\n",
              "      <td>Yes</td>\n",
              "      <td>1</td>\n",
              "      <td>10</td>\n",
              "      <td>No</td>\n",
              "      <td>Strip</td>\n",
              "      <td>Not Available</td>\n",
              "    </tr>\n",
              "    <tr>\n",
              "      <th>2</th>\n",
              "      <td>Nicogum 4 Nicotine Gum Fresh Mint Sugar Free</td>\n",
              "      <td>Cipla Health Ltd</td>\n",
              "      <td>â‚¹74.8</td>\n",
              "      <td>Nicotine (4mg)</td>\n",
              "      <td>Yes</td>\n",
              "      <td>1</td>\n",
              "      <td>10</td>\n",
              "      <td>No</td>\n",
              "      <td>Packet</td>\n",
              "      <td>Not Available</td>\n",
              "    </tr>\n",
              "    <tr>\n",
              "      <th>3</th>\n",
              "      <td>Nicotex 21mg Patch</td>\n",
              "      <td>Cipla Health Ltd</td>\n",
              "      <td>â‚¹637.5</td>\n",
              "      <td>Nicotine (21mg)</td>\n",
              "      <td>Yes</td>\n",
              "      <td>1</td>\n",
              "      <td>7</td>\n",
              "      <td>No</td>\n",
              "      <td>Packet</td>\n",
              "      <td>21mg</td>\n",
              "    </tr>\n",
              "    <tr>\n",
              "      <th>4</th>\n",
              "      <td>Nicotex 4mg Chewing Gums Classic Fresh Mint</td>\n",
              "      <td>Cipla Health Ltd</td>\n",
              "      <td>â‚¹74.8</td>\n",
              "      <td>Nicotine (4mg)</td>\n",
              "      <td>Yes</td>\n",
              "      <td>1</td>\n",
              "      <td>9</td>\n",
              "      <td>No</td>\n",
              "      <td>Packet</td>\n",
              "      <td>4mg</td>\n",
              "    </tr>\n",
              "  </tbody>\n",
              "</table>\n",
              "</div>"
            ],
            "text/plain": [
              "                                        medName  ...       Strength\n",
              "0                           Cofsils Cough Syrup  ...  Not Available\n",
              "1             Nicogum 2 Mini Lozenges Mint Plus  ...  Not Available\n",
              "2  Nicogum 4 Nicotine Gum Fresh Mint Sugar Free  ...  Not Available\n",
              "3                            Nicotex 21mg Patch  ...           21mg\n",
              "4   Nicotex 4mg Chewing Gums Classic Fresh Mint  ...            4mg\n",
              "\n",
              "[5 rows x 10 columns]"
            ]
          },
          "metadata": {
            "tags": []
          },
          "execution_count": 3
        }
      ]
    },
    {
      "cell_type": "code",
      "metadata": {
        "id": "MCd9tl-ohD9o",
        "outputId": "2f3a1300-3fb6-49a5-fa49-94fe2956f423",
        "colab": {
          "base_uri": "https://localhost:8080/",
          "height": 34
        }
      },
      "source": [
        "len(data1), len(data2)"
      ],
      "execution_count": 4,
      "outputs": [
        {
          "output_type": "execute_result",
          "data": {
            "text/plain": [
              "(4424, 4424)"
            ]
          },
          "metadata": {
            "tags": []
          },
          "execution_count": 4
        }
      ]
    },
    {
      "cell_type": "code",
      "metadata": {
        "id": "Nrt5Dn7gcLz9",
        "outputId": "9f84b785-047b-4efe-bd20-a4e1e416b6a8",
        "colab": {
          "base_uri": "https://localhost:8080/",
          "height": 423
        }
      },
      "source": [
        "!python -m spacy download en_core_web_lg"
      ],
      "execution_count": 5,
      "outputs": [
        {
          "output_type": "stream",
          "text": [
            "Requirement already satisfied: en_core_web_lg==2.2.5 from https://github.com/explosion/spacy-models/releases/download/en_core_web_lg-2.2.5/en_core_web_lg-2.2.5.tar.gz#egg=en_core_web_lg==2.2.5 in /usr/local/lib/python3.6/dist-packages (2.2.5)\n",
            "Requirement already satisfied: spacy>=2.2.2 in /usr/local/lib/python3.6/dist-packages (from en_core_web_lg==2.2.5) (2.2.4)\n",
            "Requirement already satisfied: numpy>=1.15.0 in /usr/local/lib/python3.6/dist-packages (from spacy>=2.2.2->en_core_web_lg==2.2.5) (1.18.5)\n",
            "Requirement already satisfied: preshed<3.1.0,>=3.0.2 in /usr/local/lib/python3.6/dist-packages (from spacy>=2.2.2->en_core_web_lg==2.2.5) (3.0.2)\n",
            "Requirement already satisfied: catalogue<1.1.0,>=0.0.7 in /usr/local/lib/python3.6/dist-packages (from spacy>=2.2.2->en_core_web_lg==2.2.5) (1.0.0)\n",
            "Requirement already satisfied: cymem<2.1.0,>=2.0.2 in /usr/local/lib/python3.6/dist-packages (from spacy>=2.2.2->en_core_web_lg==2.2.5) (2.0.3)\n",
            "Requirement already satisfied: wasabi<1.1.0,>=0.4.0 in /usr/local/lib/python3.6/dist-packages (from spacy>=2.2.2->en_core_web_lg==2.2.5) (0.8.0)\n",
            "Requirement already satisfied: blis<0.5.0,>=0.4.0 in /usr/local/lib/python3.6/dist-packages (from spacy>=2.2.2->en_core_web_lg==2.2.5) (0.4.1)\n",
            "Requirement already satisfied: srsly<1.1.0,>=1.0.2 in /usr/local/lib/python3.6/dist-packages (from spacy>=2.2.2->en_core_web_lg==2.2.5) (1.0.2)\n",
            "Requirement already satisfied: setuptools in /usr/local/lib/python3.6/dist-packages (from spacy>=2.2.2->en_core_web_lg==2.2.5) (50.3.0)\n",
            "Requirement already satisfied: plac<1.2.0,>=0.9.6 in /usr/local/lib/python3.6/dist-packages (from spacy>=2.2.2->en_core_web_lg==2.2.5) (1.1.3)\n",
            "Requirement already satisfied: thinc==7.4.0 in /usr/local/lib/python3.6/dist-packages (from spacy>=2.2.2->en_core_web_lg==2.2.5) (7.4.0)\n",
            "Requirement already satisfied: tqdm<5.0.0,>=4.38.0 in /usr/local/lib/python3.6/dist-packages (from spacy>=2.2.2->en_core_web_lg==2.2.5) (4.41.1)\n",
            "Requirement already satisfied: requests<3.0.0,>=2.13.0 in /usr/local/lib/python3.6/dist-packages (from spacy>=2.2.2->en_core_web_lg==2.2.5) (2.23.0)\n",
            "Requirement already satisfied: murmurhash<1.1.0,>=0.28.0 in /usr/local/lib/python3.6/dist-packages (from spacy>=2.2.2->en_core_web_lg==2.2.5) (1.0.2)\n",
            "Requirement already satisfied: importlib-metadata>=0.20; python_version < \"3.8\" in /usr/local/lib/python3.6/dist-packages (from catalogue<1.1.0,>=0.0.7->spacy>=2.2.2->en_core_web_lg==2.2.5) (2.0.0)\n",
            "Requirement already satisfied: chardet<4,>=3.0.2 in /usr/local/lib/python3.6/dist-packages (from requests<3.0.0,>=2.13.0->spacy>=2.2.2->en_core_web_lg==2.2.5) (3.0.4)\n",
            "Requirement already satisfied: idna<3,>=2.5 in /usr/local/lib/python3.6/dist-packages (from requests<3.0.0,>=2.13.0->spacy>=2.2.2->en_core_web_lg==2.2.5) (2.10)\n",
            "Requirement already satisfied: urllib3!=1.25.0,!=1.25.1,<1.26,>=1.21.1 in /usr/local/lib/python3.6/dist-packages (from requests<3.0.0,>=2.13.0->spacy>=2.2.2->en_core_web_lg==2.2.5) (1.24.3)\n",
            "Requirement already satisfied: certifi>=2017.4.17 in /usr/local/lib/python3.6/dist-packages (from requests<3.0.0,>=2.13.0->spacy>=2.2.2->en_core_web_lg==2.2.5) (2020.6.20)\n",
            "Requirement already satisfied: zipp>=0.5 in /usr/local/lib/python3.6/dist-packages (from importlib-metadata>=0.20; python_version < \"3.8\"->catalogue<1.1.0,>=0.0.7->spacy>=2.2.2->en_core_web_lg==2.2.5) (3.2.0)\n",
            "\u001b[38;5;2m✔ Download and installation successful\u001b[0m\n",
            "You can now load the model via spacy.load('en_core_web_lg')\n"
          ],
          "name": "stdout"
        }
      ]
    },
    {
      "cell_type": "code",
      "metadata": {
        "id": "WHobJmWPVt_S"
      },
      "source": [
        "import spacy"
      ],
      "execution_count": 6,
      "outputs": []
    },
    {
      "cell_type": "code",
      "metadata": {
        "id": "6onZQHOKYWRy"
      },
      "source": [
        "nlp = spacy.load('en_core_web_lg')"
      ],
      "execution_count": 7,
      "outputs": []
    },
    {
      "cell_type": "code",
      "metadata": {
        "id": "N46h_TgTY1Gh",
        "outputId": "c7880d4d-19c6-41e8-88be-7f4fc0309c39",
        "colab": {
          "base_uri": "https://localhost:8080/",
          "height": 84
        }
      },
      "source": [
        "dictionary = {}\n",
        "for med1 in range(1):\n",
        "  for med2 in range(len(data2)):\n",
        "    m1 = data1.loc[med1, 'medName']\n",
        "    m2 = data2.loc[med2, 'medName']\n",
        "    if m1[0] != m2[0]:\n",
        "      continue\n",
        "    doc_m1 = nlp(m1)\n",
        "    doc_m2 = nlp(m2)\n",
        "    if doc_m1.similarity(doc_m2) > 0.90:\n",
        "      try:\n",
        "        dictionary[data1.loc[med1, 'medName']].append(data2.loc[med2, 'medName'])\n",
        "      except:\n",
        "        dictionary[data1.loc[med1, 'medName']] = [data2.loc[med2, 'medName']]"
      ],
      "execution_count": 10,
      "outputs": [
        {
          "output_type": "stream",
          "text": [
            "/usr/lib/python3.6/runpy.py:193: UserWarning: [W008] Evaluating Doc.similarity based on empty vectors.\n",
            "  \"__main__\", mod_spec)\n",
            "/usr/lib/python3.6/runpy.py:193: UserWarning: [W008] Evaluating Doc.similarity based on empty vectors.\n",
            "  \"__main__\", mod_spec)\n"
          ],
          "name": "stderr"
        }
      ]
    },
    {
      "cell_type": "code",
      "metadata": {
        "id": "FQvPEhqZb6hp",
        "outputId": "0c9f1eb2-a100-406f-d38e-9aba0f47067c",
        "colab": {
          "base_uri": "https://localhost:8080/",
          "height": 34
        }
      },
      "source": [
        "for i in dictionary:\n",
        "  print(dictionary[i])"
      ],
      "execution_count": 11,
      "outputs": [
        {
          "output_type": "stream",
          "text": [
            "['Cofsils Cough Syrup']\n"
          ],
          "name": "stdout"
        }
      ]
    },
    {
      "cell_type": "code",
      "metadata": {
        "id": "9c1v1XZVfXF7"
      },
      "source": [
        "with open(\"output1.txt\",\"w\") as f:\n",
        "  for i in dictionary:\n",
        "    s=i+'::'+','.join(dictionary[i])+'\\n'\n",
        "    f.write(s)\n",
        "f.close()"
      ],
      "execution_count": 12,
      "outputs": []
    },
    {
      "cell_type": "code",
      "metadata": {
        "id": "o8LOqt5ETcYh"
      },
      "source": [
        ""
      ],
      "execution_count": null,
      "outputs": []
    }
  ]
}