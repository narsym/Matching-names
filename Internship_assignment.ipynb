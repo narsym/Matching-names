{
  "nbformat": 4,
  "nbformat_minor": 0,
  "metadata": {
    "colab": {
      "name": "Internship assignment.ipynb",
      "provenance": [],
      "collapsed_sections": [],
      "include_colab_link": true
    },
    "kernelspec": {
      "name": "python3",
      "display_name": "Python 3"
    },
    "accelerator": "GPU"
  },
  "cells": [
    {
      "cell_type": "markdown",
      "metadata": {
        "id": "view-in-github",
        "colab_type": "text"
      },
      "source": [
        "<a href=\"https://colab.research.google.com/github/narsym/Matching-names/blob/main/Internship_assignment.ipynb\" target=\"_parent\"><img src=\"https://colab.research.google.com/assets/colab-badge.svg\" alt=\"Open In Colab\"/></a>"
      ]
    },
    {
      "cell_type": "code",
      "metadata": {
        "id": "Cy6xu6jvSDLu"
      },
      "source": [
        "import pandas as pd\n",
        "data1 = pd.read_excel('https://github.com/narsym/Matching-names/blob/main/Dataset%20O.xlsx?raw=true')\n",
        "data2 = pd.read_excel('https://github.com/narsym/Matching-names/blob/main/Dataset%20O.xlsx?raw=true')"
      ],
      "execution_count": 1,
      "outputs": []
    },
    {
      "cell_type": "code",
      "metadata": {
        "id": "0d0wldlXVwXQ",
        "outputId": "b4e1edd9-fc53-4feb-f5bc-e7a50460b26e",
        "colab": {
          "base_uri": "https://localhost:8080/",
          "height": 296
        }
      },
      "source": [
        "data1.head()"
      ],
      "execution_count": 2,
      "outputs": [
        {
          "output_type": "execute_result",
          "data": {
            "text/html": [
              "<div>\n",
              "<style scoped>\n",
              "    .dataframe tbody tr th:only-of-type {\n",
              "        vertical-align: middle;\n",
              "    }\n",
              "\n",
              "    .dataframe tbody tr th {\n",
              "        vertical-align: top;\n",
              "    }\n",
              "\n",
              "    .dataframe thead th {\n",
              "        text-align: right;\n",
              "    }\n",
              "</style>\n",
              "<table border=\"1\" class=\"dataframe\">\n",
              "  <thead>\n",
              "    <tr style=\"text-align: right;\">\n",
              "      <th></th>\n",
              "      <th>medName</th>\n",
              "      <th>manufacturer</th>\n",
              "      <th>onemg_price</th>\n",
              "      <th>Ingredients</th>\n",
              "      <th>Prescription Required</th>\n",
              "      <th>Units in Pack</th>\n",
              "      <th>Pack Size</th>\n",
              "      <th>Stock</th>\n",
              "      <th>Pack Form</th>\n",
              "      <th>Strength</th>\n",
              "    </tr>\n",
              "  </thead>\n",
              "  <tbody>\n",
              "    <tr>\n",
              "      <th>0</th>\n",
              "      <td>Cofsils Cough Syrup</td>\n",
              "      <td>Cipla Health Ltd</td>\n",
              "      <td>â‚¹69.7</td>\n",
              "      <td>Diphenhydramine (14.08mg/5ml) + Ammonium Chlor...</td>\n",
              "      <td>Yes</td>\n",
              "      <td>1</td>\n",
              "      <td>100</td>\n",
              "      <td>Yes</td>\n",
              "      <td>Bottle</td>\n",
              "      <td>Not Available</td>\n",
              "    </tr>\n",
              "    <tr>\n",
              "      <th>1</th>\n",
              "      <td>Nicogum 2 Mini Lozenges Mint Plus</td>\n",
              "      <td>Cipla Health Ltd</td>\n",
              "      <td>â‚¹76.5</td>\n",
              "      <td>Nicotine (2mg)</td>\n",
              "      <td>Yes</td>\n",
              "      <td>1</td>\n",
              "      <td>10</td>\n",
              "      <td>No</td>\n",
              "      <td>Strip</td>\n",
              "      <td>Not Available</td>\n",
              "    </tr>\n",
              "    <tr>\n",
              "      <th>2</th>\n",
              "      <td>Nicogum 4 Nicotine Gum Fresh Mint Sugar Free</td>\n",
              "      <td>Cipla Health Ltd</td>\n",
              "      <td>â‚¹74.8</td>\n",
              "      <td>Nicotine (4mg)</td>\n",
              "      <td>Yes</td>\n",
              "      <td>1</td>\n",
              "      <td>10</td>\n",
              "      <td>No</td>\n",
              "      <td>Packet</td>\n",
              "      <td>Not Available</td>\n",
              "    </tr>\n",
              "    <tr>\n",
              "      <th>3</th>\n",
              "      <td>Nicotex 21mg Patch</td>\n",
              "      <td>Cipla Health Ltd</td>\n",
              "      <td>â‚¹637.5</td>\n",
              "      <td>Nicotine (21mg)</td>\n",
              "      <td>Yes</td>\n",
              "      <td>1</td>\n",
              "      <td>7</td>\n",
              "      <td>No</td>\n",
              "      <td>Packet</td>\n",
              "      <td>21mg</td>\n",
              "    </tr>\n",
              "    <tr>\n",
              "      <th>4</th>\n",
              "      <td>Nicotex 4mg Chewing Gums Classic Fresh Mint</td>\n",
              "      <td>Cipla Health Ltd</td>\n",
              "      <td>â‚¹74.8</td>\n",
              "      <td>Nicotine (4mg)</td>\n",
              "      <td>Yes</td>\n",
              "      <td>1</td>\n",
              "      <td>9</td>\n",
              "      <td>No</td>\n",
              "      <td>Packet</td>\n",
              "      <td>4mg</td>\n",
              "    </tr>\n",
              "  </tbody>\n",
              "</table>\n",
              "</div>"
            ],
            "text/plain": [
              "                                        medName  ...       Strength\n",
              "0                           Cofsils Cough Syrup  ...  Not Available\n",
              "1             Nicogum 2 Mini Lozenges Mint Plus  ...  Not Available\n",
              "2  Nicogum 4 Nicotine Gum Fresh Mint Sugar Free  ...  Not Available\n",
              "3                            Nicotex 21mg Patch  ...           21mg\n",
              "4   Nicotex 4mg Chewing Gums Classic Fresh Mint  ...            4mg\n",
              "\n",
              "[5 rows x 10 columns]"
            ]
          },
          "metadata": {
            "tags": []
          },
          "execution_count": 2
        }
      ]
    },
    {
      "cell_type": "code",
      "metadata": {
        "id": "bBQmcNojVn8f",
        "outputId": "70f97dc0-57cd-436b-a251-eac6e8758ce9",
        "colab": {
          "base_uri": "https://localhost:8080/",
          "height": 296
        }
      },
      "source": [
        "data2.head()"
      ],
      "execution_count": 3,
      "outputs": [
        {
          "output_type": "execute_result",
          "data": {
            "text/html": [
              "<div>\n",
              "<style scoped>\n",
              "    .dataframe tbody tr th:only-of-type {\n",
              "        vertical-align: middle;\n",
              "    }\n",
              "\n",
              "    .dataframe tbody tr th {\n",
              "        vertical-align: top;\n",
              "    }\n",
              "\n",
              "    .dataframe thead th {\n",
              "        text-align: right;\n",
              "    }\n",
              "</style>\n",
              "<table border=\"1\" class=\"dataframe\">\n",
              "  <thead>\n",
              "    <tr style=\"text-align: right;\">\n",
              "      <th></th>\n",
              "      <th>medName</th>\n",
              "      <th>manufacturer</th>\n",
              "      <th>onemg_price</th>\n",
              "      <th>Ingredients</th>\n",
              "      <th>Prescription Required</th>\n",
              "      <th>Units in Pack</th>\n",
              "      <th>Pack Size</th>\n",
              "      <th>Stock</th>\n",
              "      <th>Pack Form</th>\n",
              "      <th>Strength</th>\n",
              "    </tr>\n",
              "  </thead>\n",
              "  <tbody>\n",
              "    <tr>\n",
              "      <th>0</th>\n",
              "      <td>Cofsils Cough Syrup</td>\n",
              "      <td>Cipla Health Ltd</td>\n",
              "      <td>â‚¹69.7</td>\n",
              "      <td>Diphenhydramine (14.08mg/5ml) + Ammonium Chlor...</td>\n",
              "      <td>Yes</td>\n",
              "      <td>1</td>\n",
              "      <td>100</td>\n",
              "      <td>Yes</td>\n",
              "      <td>Bottle</td>\n",
              "      <td>Not Available</td>\n",
              "    </tr>\n",
              "    <tr>\n",
              "      <th>1</th>\n",
              "      <td>Nicogum 2 Mini Lozenges Mint Plus</td>\n",
              "      <td>Cipla Health Ltd</td>\n",
              "      <td>â‚¹76.5</td>\n",
              "      <td>Nicotine (2mg)</td>\n",
              "      <td>Yes</td>\n",
              "      <td>1</td>\n",
              "      <td>10</td>\n",
              "      <td>No</td>\n",
              "      <td>Strip</td>\n",
              "      <td>Not Available</td>\n",
              "    </tr>\n",
              "    <tr>\n",
              "      <th>2</th>\n",
              "      <td>Nicogum 4 Nicotine Gum Fresh Mint Sugar Free</td>\n",
              "      <td>Cipla Health Ltd</td>\n",
              "      <td>â‚¹74.8</td>\n",
              "      <td>Nicotine (4mg)</td>\n",
              "      <td>Yes</td>\n",
              "      <td>1</td>\n",
              "      <td>10</td>\n",
              "      <td>No</td>\n",
              "      <td>Packet</td>\n",
              "      <td>Not Available</td>\n",
              "    </tr>\n",
              "    <tr>\n",
              "      <th>3</th>\n",
              "      <td>Nicotex 21mg Patch</td>\n",
              "      <td>Cipla Health Ltd</td>\n",
              "      <td>â‚¹637.5</td>\n",
              "      <td>Nicotine (21mg)</td>\n",
              "      <td>Yes</td>\n",
              "      <td>1</td>\n",
              "      <td>7</td>\n",
              "      <td>No</td>\n",
              "      <td>Packet</td>\n",
              "      <td>21mg</td>\n",
              "    </tr>\n",
              "    <tr>\n",
              "      <th>4</th>\n",
              "      <td>Nicotex 4mg Chewing Gums Classic Fresh Mint</td>\n",
              "      <td>Cipla Health Ltd</td>\n",
              "      <td>â‚¹74.8</td>\n",
              "      <td>Nicotine (4mg)</td>\n",
              "      <td>Yes</td>\n",
              "      <td>1</td>\n",
              "      <td>9</td>\n",
              "      <td>No</td>\n",
              "      <td>Packet</td>\n",
              "      <td>4mg</td>\n",
              "    </tr>\n",
              "  </tbody>\n",
              "</table>\n",
              "</div>"
            ],
            "text/plain": [
              "                                        medName  ...       Strength\n",
              "0                           Cofsils Cough Syrup  ...  Not Available\n",
              "1             Nicogum 2 Mini Lozenges Mint Plus  ...  Not Available\n",
              "2  Nicogum 4 Nicotine Gum Fresh Mint Sugar Free  ...  Not Available\n",
              "3                            Nicotex 21mg Patch  ...           21mg\n",
              "4   Nicotex 4mg Chewing Gums Classic Fresh Mint  ...            4mg\n",
              "\n",
              "[5 rows x 10 columns]"
            ]
          },
          "metadata": {
            "tags": []
          },
          "execution_count": 3
        }
      ]
    },
    {
      "cell_type": "code",
      "metadata": {
        "id": "MCd9tl-ohD9o",
        "outputId": "2f3a1300-3fb6-49a5-fa49-94fe2956f423",
        "colab": {
          "base_uri": "https://localhost:8080/",
          "height": 34
        }
      },
      "source": [
        "len(data1), len(data2)"
      ],
      "execution_count": 4,
      "outputs": [
        {
          "output_type": "execute_result",
          "data": {
            "text/plain": [
              "(4424, 4424)"
            ]
          },
          "metadata": {
            "tags": []
          },
          "execution_count": 4
        }
      ]
    },
    {
      "cell_type": "code",
      "metadata": {
        "id": "Nrt5Dn7gcLz9"
      },
      "source": [
        "!python -m spacy download en_core_web_lg"
      ],
      "execution_count": null,
      "outputs": []
    },
    {
      "cell_type": "code",
      "metadata": {
        "id": "WHobJmWPVt_S"
      },
      "source": [
        "import spacy"
      ],
      "execution_count": 6,
      "outputs": []
    },
    {
      "cell_type": "code",
      "metadata": {
        "id": "6onZQHOKYWRy"
      },
      "source": [
        "nlp = spacy.load('en_core_web_lg')"
      ],
      "execution_count": 7,
      "outputs": []
    },
    {
      "cell_type": "code",
      "metadata": {
        "id": "N46h_TgTY1Gh"
      },
      "source": [
        "dictionary = {}\n",
        "for med1 in range(50):\n",
        "  print(med1)\n",
        "  for med2 in range(len(data2)):\n",
        "    m1 = data1.loc[med1, 'medName']\n",
        "    m2 = data2.loc[med2, 'medName']\n",
        "    if m1[0] != m2[0]:\n",
        "      continue\n",
        "    doc_m1 = nlp(m1)\n",
        "    doc_m2 = nlp(m2)\n",
        "    if doc_m1.similarity(doc_m2) > 0.83:\n",
        "      try:\n",
        "        dictionary[data1.loc[med1, 'medName']].append(data2.loc[med2, 'medName'])\n",
        "      except:\n",
        "        dictionary[data1.loc[med1, 'medName']] = [data2.loc[med2, 'medName']]"
      ],
      "execution_count": null,
      "outputs": []
    },
    {
      "cell_type": "code",
      "metadata": {
        "id": "FQvPEhqZb6hp",
        "outputId": "4a7a8bda-0657-42f3-ca6b-8db415f4e17a",
        "colab": {
          "base_uri": "https://localhost:8080/",
          "height": 826
        }
      },
      "source": [
        "for i in dictionary:\n",
        "  print(i,' :', dictionary[i])"
      ],
      "execution_count": 15,
      "outputs": [
        {
          "output_type": "stream",
          "text": [
            "Cofsils Cough Syrup  : ['Cofsils Cough Syrup', 'Cetcip Syrup', 'Cetcip Syrup', 'Ciplactin Syrup', 'Clavmox Syrup', 'Cofdex  Syrup', 'Cepodem 50mg/5ml Syrup', 'Ceteze Syrup', 'Chericof Syrup', 'Chericof Syrup', 'Citelec Syrup', 'Coldact Syrup']\n",
            "Nicogum 2 Mini Lozenges Mint Plus  : ['Nicogum 2 Mini Lozenges Mint Plus']\n",
            "Nicogum 4 Nicotine Gum Fresh Mint Sugar Free  : ['Nicogum 4 Nicotine Gum Fresh Mint Sugar Free', 'Nicotex 4mg Chewing Gums Classic Fresh Mint', 'Nicotex 4mg Chewing Gums Sugar Free Cinnamon', 'Nicotex 4mg Chewing Gums Sugar Free Fruity Mint', 'Nicotex 4mg Chewing Gums Sugar Free Mint Plus', 'Nicotex 4mg Chewing Gums Sugar Free Mint Plus', 'Nicotex 4mg Sugar Free Classic Chewing Gums Fresh Mint', 'Nicotex Sugar Free 4mg Chewing Gums']\n",
            "Nicotex 21mg Patch  : ['Nicotex 21mg Patch', 'Nicotex 7mg Patch']\n",
            "Nicotex 4mg Chewing Gums Classic Fresh Mint  : ['Nicogum 4 Nicotine Gum Fresh Mint Sugar Free', 'Nicotex 4mg Chewing Gums Classic Fresh Mint', 'Nicotex 4mg Chewing Gums Sugar Free Cinnamon', 'Nicotex 4mg Chewing Gums Sugar Free Fruity Mint', 'Nicotex 4mg Chewing Gums Sugar Free Mint Plus', 'Nicotex 4mg Chewing Gums Sugar Free Mint Plus', 'Nicotex 4mg Sugar Free Classic Chewing Gums Fresh Mint', 'Nicotex 4mg with Teeth Whitening Mint Plus', 'Nicotex Classic Mint 4mg Chewing Gums', 'Nicotex Plus 4mg Chewing Gums Mint', 'Nicotex Plus 4mg Chewing Gums Mint Plus', 'Nicotex Sugar Free 4mg Chewing Gums']\n",
            "Nicotex 4mg Chewing Gums Paan  : ['Nicotex 4mg Chewing Gums Paan', 'Nicotex Classic Mint 4mg Chewing Gums', 'Nicotex Plus 4mg Chewing Gums Mint', 'Nicotex Sugar Free 4mg Chewing Gums', 'Nicotine Polacrilex 4mg Chewing Gums']\n",
            "Nicotex 4mg Chewing Gums Sugar Free Cinnamon  : ['Nicogum 4 Nicotine Gum Fresh Mint Sugar Free', 'Nicotex 4mg Chewing Gums Classic Fresh Mint', 'Nicotex 4mg Chewing Gums Sugar Free Cinnamon', 'Nicotex 4mg Chewing Gums Sugar Free Fruity Mint', 'Nicotex 4mg Chewing Gums Sugar Free Mint Plus', 'Nicotex 4mg Chewing Gums Sugar Free Mint Plus', 'Nicotex 4mg Sugar Free Classic Chewing Gums Fresh Mint', 'Nicotex Classic Mint 4mg Chewing Gums', 'Nicotex Plus 4mg Chewing Gums Mint', 'Nicotex Plus 4mg Chewing Gums Mint Plus', 'Nicotex Sugar Free 4mg Chewing Gums', 'Nicochew 4mg Gum', 'Nicotine Polacrilex 4mg Chewing Gums']\n",
            "Nicotex 4mg Chewing Gums Sugar Free Fruity Mint  : ['Nicogum 4 Nicotine Gum Fresh Mint Sugar Free', 'Nicotex 4mg Chewing Gums Classic Fresh Mint', 'Nicotex 4mg Chewing Gums Sugar Free Cinnamon', 'Nicotex 4mg Chewing Gums Sugar Free Fruity Mint', 'Nicotex 4mg Chewing Gums Sugar Free Mint Plus', 'Nicotex 4mg Chewing Gums Sugar Free Mint Plus', 'Nicotex 4mg Sugar Free Classic Chewing Gums Fresh Mint', 'Nicotex Classic Mint 4mg Chewing Gums', 'Nicotex Plus 4mg Chewing Gums Mint', 'Nicotex Plus 4mg Chewing Gums Mint Plus', 'Nicotex Sugar Free 4mg Chewing Gums', 'Nicotine Polacrilex 4mg Chewing Gums']\n",
            "Nicotex 4mg Chewing Gums Sugar Free Mint Plus  : ['Nicogum 4 Nicotine Gum Fresh Mint Sugar Free', 'Nicotex 4mg Chewing Gums Classic Fresh Mint', 'Nicotex 4mg Chewing Gums Sugar Free Cinnamon', 'Nicotex 4mg Chewing Gums Sugar Free Fruity Mint', 'Nicotex 4mg Chewing Gums Sugar Free Mint Plus', 'Nicotex 4mg Chewing Gums Sugar Free Mint Plus', 'Nicotex 4mg Sugar Free Classic Chewing Gums Fresh Mint', 'Nicotex 4mg with Teeth Whitening Mint Plus', 'Nicotex Classic Mint 4mg Chewing Gums', 'Nicotex Plus 4mg Chewing Gums Mint', 'Nicotex Plus 4mg Chewing Gums Mint Plus', 'Nicotex Sugar Free 4mg Chewing Gums', 'Nicochew 4mg Gum', 'Nicotine Polacrilex 4mg Chewing Gums', 'Nicogum 4 Nicotine Gum Fresh Mint Sugar Free', 'Nicotex 4mg Chewing Gums Classic Fresh Mint', 'Nicotex 4mg Chewing Gums Sugar Free Cinnamon', 'Nicotex 4mg Chewing Gums Sugar Free Fruity Mint', 'Nicotex 4mg Chewing Gums Sugar Free Mint Plus', 'Nicotex 4mg Chewing Gums Sugar Free Mint Plus', 'Nicotex 4mg Sugar Free Classic Chewing Gums Fresh Mint', 'Nicotex 4mg with Teeth Whitening Mint Plus', 'Nicotex Classic Mint 4mg Chewing Gums', 'Nicotex Plus 4mg Chewing Gums Mint', 'Nicotex Plus 4mg Chewing Gums Mint Plus', 'Nicotex Sugar Free 4mg Chewing Gums', 'Nicochew 4mg Gum', 'Nicotine Polacrilex 4mg Chewing Gums']\n",
            "Nicotex 4mg Sugar Free Classic Chewing Gums Fresh Mint  : ['Nicogum 4 Nicotine Gum Fresh Mint Sugar Free', 'Nicotex 4mg Chewing Gums Classic Fresh Mint', 'Nicotex 4mg Chewing Gums Sugar Free Cinnamon', 'Nicotex 4mg Chewing Gums Sugar Free Fruity Mint', 'Nicotex 4mg Chewing Gums Sugar Free Mint Plus', 'Nicotex 4mg Chewing Gums Sugar Free Mint Plus', 'Nicotex 4mg Sugar Free Classic Chewing Gums Fresh Mint', 'Nicotex Classic Mint 4mg Chewing Gums', 'Nicotex Plus 4mg Chewing Gums Mint', 'Nicotex Plus 4mg Chewing Gums Mint Plus', 'Nicotex Sugar Free 4mg Chewing Gums']\n",
            "Nicotex 4mg with Teeth Whitening Mint Plus  : ['Nicotex 4mg Chewing Gums Classic Fresh Mint', 'Nicotex 4mg Chewing Gums Sugar Free Mint Plus', 'Nicotex 4mg Chewing Gums Sugar Free Mint Plus', 'Nicotex 4mg with Teeth Whitening Mint Plus', 'Nicotex Classic Mint 4mg Chewing Gums', 'Nicotex Plus 4mg Chewing Gums Mint', 'Nicotex Plus 4mg Chewing Gums Mint Plus']\n",
            "Nicotex 7mg Patch  : ['Nicotex 21mg Patch', 'Nicotex 7mg Patch']\n",
            "Nicotex Classic Mint 4mg Chewing Gums  : ['Nicotex 4mg Chewing Gums Classic Fresh Mint', 'Nicotex 4mg Chewing Gums Paan', 'Nicotex 4mg Chewing Gums Sugar Free Cinnamon', 'Nicotex 4mg Chewing Gums Sugar Free Fruity Mint', 'Nicotex 4mg Chewing Gums Sugar Free Mint Plus', 'Nicotex 4mg Chewing Gums Sugar Free Mint Plus', 'Nicotex 4mg Sugar Free Classic Chewing Gums Fresh Mint', 'Nicotex 4mg with Teeth Whitening Mint Plus', 'Nicotex Classic Mint 4mg Chewing Gums', 'Nicotex Plus 4mg Chewing Gums Mint', 'Nicotex Plus 4mg Chewing Gums Mint Plus', 'Nicotex Sugar Free 4mg Chewing Gums', 'Nicochew 4mg Gum', 'Nicotine Polacrilex 4mg Chewing Gums']\n",
            "Nicotex Plus 4mg Chewing Gums Mint  : ['Nicotex 4mg Chewing Gums Classic Fresh Mint', 'Nicotex 4mg Chewing Gums Paan', 'Nicotex 4mg Chewing Gums Sugar Free Cinnamon', 'Nicotex 4mg Chewing Gums Sugar Free Fruity Mint', 'Nicotex 4mg Chewing Gums Sugar Free Mint Plus', 'Nicotex 4mg Chewing Gums Sugar Free Mint Plus', 'Nicotex 4mg Sugar Free Classic Chewing Gums Fresh Mint', 'Nicotex 4mg with Teeth Whitening Mint Plus', 'Nicotex Classic Mint 4mg Chewing Gums', 'Nicotex Plus 4mg Chewing Gums Mint', 'Nicotex Plus 4mg Chewing Gums Mint Plus', 'Nicotex Sugar Free 4mg Chewing Gums', 'Nicochew 4mg Gum', 'Nicotine Polacrilex 4mg Chewing Gums']\n",
            "Nicotex Plus 4mg Chewing Gums Mint Plus  : ['Nicotex 4mg Chewing Gums Classic Fresh Mint', 'Nicotex 4mg Chewing Gums Sugar Free Cinnamon', 'Nicotex 4mg Chewing Gums Sugar Free Fruity Mint', 'Nicotex 4mg Chewing Gums Sugar Free Mint Plus', 'Nicotex 4mg Chewing Gums Sugar Free Mint Plus', 'Nicotex 4mg Sugar Free Classic Chewing Gums Fresh Mint', 'Nicotex 4mg with Teeth Whitening Mint Plus', 'Nicotex Classic Mint 4mg Chewing Gums', 'Nicotex Plus 4mg Chewing Gums Mint', 'Nicotex Plus 4mg Chewing Gums Mint Plus', 'Nicotex Sugar Free 4mg Chewing Gums', 'Nicochew 4mg Gum', 'Nicotine Polacrilex 4mg Chewing Gums']\n",
            "Nicotex Sugar Free 4mg Chewing Gums  : ['Nicogum 4 Nicotine Gum Fresh Mint Sugar Free', 'Nicotex 4mg Chewing Gums Classic Fresh Mint', 'Nicotex 4mg Chewing Gums Paan', 'Nicotex 4mg Chewing Gums Sugar Free Cinnamon', 'Nicotex 4mg Chewing Gums Sugar Free Fruity Mint', 'Nicotex 4mg Chewing Gums Sugar Free Mint Plus', 'Nicotex 4mg Chewing Gums Sugar Free Mint Plus', 'Nicotex 4mg Sugar Free Classic Chewing Gums Fresh Mint', 'Nicotex Classic Mint 4mg Chewing Gums', 'Nicotex Plus 4mg Chewing Gums Mint', 'Nicotex Plus 4mg Chewing Gums Mint Plus', 'Nicotex Sugar Free 4mg Chewing Gums', 'Nicochew 4mg Gum', 'Nicotine Polacrilex 4mg Chewing Gums']\n",
            "ACIGENE  250MG/250MG/50MG ORAL GEL  : ['ACIGENE  250MG/250MG/50MG ORAL GEL']\n",
            "AEROCORT HFA 100 MCG/50 MCG INHALER  : ['AEROCORT HFA 100 MCG/50 MCG INHALER', 'Aerotide 200 mcg/100 mcg Inhaler', 'Aerotide 200 mcg/100 mcg Inhaler']\n",
            "ALERGIN L TABLET  : ['ALERGIN L TABLET', 'Amlopres L Tablet', 'AMLODIL-L 5MG/5MG TABLET', 'Adpep R Tablet']\n",
            "ALIANZ 100 MG/20 MG CAPSULE  : ['ALIANZ 100 MG/20 MG CAPSULE', 'AMPISYN 250 MG CAPSULE', 'AMPISYN 500 MG CAPSULE', 'Aceflex Plus 100 mg/500 mg Tablet', 'Acemax 250mg Tablet', 'Actiflu 500mg Tablet', 'Actiflu 500mg Tablet', 'Alerfex 120mg Tablet', 'Alrik 100mg Tablet', 'Alrik 300mg Tablet', 'Amicip 100mg Injection', 'Amicip 500mg Injection', 'Androfil 40mg Capsule', 'Antiflu 75mg Capsule', 'Asthavent DP 4mg Capsule', 'Atavir 300mg Capsule', 'Azee 100mg Tablet DT', 'Azimax 500mg Injection', 'Azimed 250mg Tablet', 'Azimed 500mg Tablet', 'Azipro 100mg Tablet DT', 'Azipro 100mg Tablet DT', 'Azipro 500mg Injection', 'Azipro 500mg Injection', 'Azipro Rediuse 100mg Syrup', 'Azipro Rediuse 100mg Syrup', 'Azmarda 100mg Tablet', 'Azmarda 200mg Tablet', 'Azmarda 50mg Tablet', 'Azomycin 500mg Tablet', 'ACMIL 25 MG CAPSULE', 'Acmil 50mg Capsule', 'Acrotac 10mg Capsule', 'Acrotac 25mg Capsule', 'Actizo 80 mg/480 mg Tablet', 'Afenak 100mg Tablet', 'Afenak 100mg Tablet', 'Aldorace 50mg Tablet', 'Alfakim 100mg Injection', 'Alfakim 500mg Injection', 'Altiva 120mg Tablet', 'Altiva 180mg Tablet', 'Altraflam 200mg Capsule SR', 'Altraflam 200mg Capsule SR', 'Amx 500mg Capsule', 'Androblok 50mg Tablet', 'Androxil 250mg Tablet', 'Androxil 250mg Tablet', 'Angizem DP 60mg Capsule', 'Anofer 100mg Injection', 'Anofer S 100mg Injection', 'Artagen 250mg Tablet', 'Artisid 25mg Capsule', 'Artisid 50mg Capsule', 'Artisun 150mg Injection', 'Aspent 60mg Tablet', 'Aspent 60mg Tablet', 'Attentrol 10mg Capsule', 'Attentrol 25mg Capsule', 'Attentrol 40mg Capsule', 'Axcer  60mg Tablet', 'Axcer  90mg Tablet', 'Axcer  90mg Tablet', 'Azax 200mg Tablet', 'Azimune 50mg Tablet', 'Azzure 100mg Injection']\n",
            "AMLOPRES-VL 5MG/160MG TABLET  : ['AMLOPRES-VL 5MG/160MG TABLET', 'AMLOPRES-VL 5MG/80MG TABLET']\n",
            "AMLOPRES-VL 5MG/80MG TABLET  : ['AMLOPRES-VL 5MG/160MG TABLET', 'AMLOPRES-VL 5MG/80MG TABLET']\n",
            "AMPISYN 250 MG CAPSULE  : ['ALIANZ 100 MG/20 MG CAPSULE', 'AMPISYN 250 MG CAPSULE', 'AMPISYN 500 MG CAPSULE', 'Aceflex Plus 100 mg/500 mg Tablet', 'Acemax 250mg Tablet', 'Actiflu 500mg Tablet', 'Actiflu 500mg Tablet', 'Alerfex 120mg Tablet', 'Alrik 100mg Tablet', 'Alrik 300mg Tablet', 'Amicip 100mg Injection', 'Amicip 250mg Injection', 'Amicip 500mg Injection', 'Androfil 40mg Capsule', 'Antiflu 75mg Capsule', 'Asthavent DP 4mg Capsule', 'Atavir 300mg Capsule', 'Azicip 250mg Suspension', 'Azimax 200mg Tablet DT', 'Azimax 500mg Injection', 'Azimed 250mg Tablet', 'Azimed 500mg Tablet', 'Azipro 500mg Injection', 'Azipro 500mg Injection', 'Azmarda 100mg Tablet', 'Azmarda 200mg Tablet', 'Azmarda 50mg Tablet', 'Azomycin 500mg Tablet', 'ACMIL 25 MG CAPSULE', 'Acmil 50mg Capsule', 'Acrotac 10mg Capsule', 'Acrotac 25mg Capsule', 'Actizo 80 mg/480 mg Tablet', 'Afenak 100mg Tablet', 'Afenak 100mg Tablet', 'Aldorace 50mg Tablet', 'Alfakim 100mg Injection', 'Alfakim 250mg Injection', 'Alfakim 500mg Injection', 'Altiva 120mg Tablet', 'Altiva 180mg Tablet', 'Altraflam 200mg Capsule SR', 'Altraflam 200mg Capsule SR', 'Amx 500mg Capsule', 'Amx DC 250 mg/250 mg Capsule', 'Androblok 50mg Tablet', 'Androxil 250mg Tablet', 'Androxil 250mg Tablet', 'Angizem DP 60mg Capsule', 'Anofer 100mg Injection', 'Artagen 250mg Tablet', 'Artisid 25mg Capsule', 'Artisid 50mg Capsule', 'Artisun 150mg Injection', 'Aspent 60mg Tablet', 'Aspent 60mg Tablet', 'Attentrol 10mg Capsule', 'Attentrol 25mg Capsule', 'Attentrol 40mg Capsule', 'Axcer  60mg Tablet', 'Axcer  90mg Tablet', 'Axcer  90mg Tablet', 'Azax 200mg Tablet', 'Azimune 50mg Tablet', 'Azostat 150 mg/1000 mg Kit', 'Azzure 100mg Injection']\n",
            "AMPISYN 500 MG CAPSULE  : ['ALIANZ 100 MG/20 MG CAPSULE', 'AMPISYN 250 MG CAPSULE', 'AMPISYN 500 MG CAPSULE', 'Aceflex Plus 100 mg/500 mg Tablet', 'Acemax 250mg Tablet', 'Actiflu 500mg Tablet', 'Actiflu 500mg Tablet', 'Alerfex 120mg Tablet', 'Alrik 100mg Tablet', 'Alrik 300mg Tablet', 'Amicip 100mg Injection', 'Amicip 250mg Injection', 'Amicip 500mg Injection', 'Androfil 40mg Capsule', 'Antiflu 75mg Capsule', 'Asthavent DP 4mg Capsule', 'Atavir 300mg Capsule', 'Azicip 250mg Suspension', 'Azimax 500mg Injection', 'Azimed 250mg Tablet', 'Azimed 500mg Tablet', 'Azipro 500mg Injection', 'Azipro 500mg Injection', 'Azmarda 100mg Tablet', 'Azmarda 200mg Tablet', 'Azmarda 50mg Tablet', 'Azomycin 500mg Tablet', 'ACMIL 25 MG CAPSULE', 'Acmil 50mg Capsule', 'Acrotac 10mg Capsule', 'Acrotac 25mg Capsule', 'Actizo 80 mg/480 mg Tablet', 'Afenak 100mg Tablet', 'Afenak 100mg Tablet', 'Aldorace 50mg Tablet', 'Alfakim 100mg Injection', 'Alfakim 250mg Injection', 'Alfakim 500mg Injection', 'Altiva 120mg Tablet', 'Altiva 180mg Tablet', 'Altraflam 200mg Capsule SR', 'Altraflam 200mg Capsule SR', 'Amx 500mg Capsule', 'Amx DC 250 mg/250 mg Capsule', 'Androblok 50mg Tablet', 'Androxil 250mg Tablet', 'Androxil 250mg Tablet', 'Angizem DP 60mg Capsule', 'Anofer 100mg Injection', 'Artagen 250mg Tablet', 'Artisid 25mg Capsule', 'Artisid 50mg Capsule', 'Artisun 150mg Injection', 'Aspent 60mg Tablet', 'Aspent 60mg Tablet', 'Attentrol 10mg Capsule', 'Attentrol 25mg Capsule', 'Attentrol 40mg Capsule', 'Axcer  60mg Tablet', 'Axcer  90mg Tablet', 'Axcer  90mg Tablet', 'Azax 200mg Tablet', 'Azimune 50mg Tablet', 'Azzure 100mg Injection']\n",
            "AZEEMUNE 500MG TABLET  : ['AZEEMUNE 500MG TABLET', 'Acemax 250mg Tablet', 'Actiflu 500mg Tablet', 'Actiflu 500mg Tablet', 'Azimed 250mg Tablet', 'Azimed 500mg Tablet', 'Azomycin 500mg Tablet', 'AMPREZ 5MG TABLET', 'Actizo 40mg/240mg Tablet', 'Admenta  7mg Tablet XR', 'Altiva 180mg Tablet', 'Amixide 25mg/10mg Tablet', 'Androxil 250mg Tablet', 'Androxil 250mg Tablet', 'Artagen 250mg Tablet']\n",
            "Abamune L 600 mg/300 mg Tablet  : ['Abamune L 600 mg/300 mg Tablet', 'Aceflex Plus 100 mg/500 mg Tablet', 'Acemax 250mg Tablet', 'Actiflu 500mg Tablet', 'Actiflu 500mg Tablet', 'Adesera 10mg Tablet', 'Alerfex 120mg Tablet', 'Alergin 10mg Tablet', 'Alrik 100mg Tablet', 'Alrik 300mg Tablet', 'Amcold 5 mg/60 mg Tablet', 'Amlopres-NB 5mg/5mg Tablet', 'Amlopres-Z 50mg/5mg Tablet', 'Apenorm 4mg Tablet', 'Aspin 300mg Tablet DT', 'Asthalin SA 4mg Tablet', 'Atavir 300mg Capsule', 'Atorlip EZ 10mg/10mg Tablet', 'Atorlip-F 5mg/145mg Tablet', 'Avogran 1mg Tablet DT', 'Avogran 1mg Tablet DT', 'Azee 1000 Tablet', 'Azee 100mg Tablet DT', 'Azee 250 Tablet', 'Azee 250 Tablet', 'Azee 500 Tablet', 'Azee 500 Tablet', 'Azee AX 500mg/75mg Tablet', 'Azicip 250 Tablet', 'Azicip 250 Tablet', 'Azicip 500 Tablet', 'Azimax 200mg Tablet DT', 'Azimax 250 Tablet', 'Azimax 500 Tablet', 'Azimax 500 Tablet', 'Azimed 250mg Tablet', 'Azimed 500mg Tablet', 'Azipro 100mg Tablet DT', 'Azipro 100mg Tablet DT', 'Azipro 250 Tablet', 'Azipro 500 Tablet', 'Azmarda 100mg Tablet', 'Azmarda 200mg Tablet', 'Azmarda 50mg Tablet', 'Azomycin 500mg Tablet', 'ADMENTA 10 MG TABLET MD', 'ALZOLAM 0.5 MG TABLET SR', 'ALZOLAM 1.5 MG TABLET SR', 'Actizo 20 mg/120 mg Tablet', 'Actizo 40mg/240mg Tablet', 'Actizo 80 mg/480 mg Tablet', 'Addwize 10mg Tablet', 'Addwize OD 18mg Tablet', 'Adesam 200 Tablet', 'Adesam 400 Tablet', 'Adfovir 10mg Tablet', 'Adheb 10mg Tablet', 'Adiuretin 0.1mg Tablet', 'Adiuretin 0.2mg Tablet', 'Admenta  7mg Tablet XR', 'Admenta 14mg Tablet XR', 'Admenta 5mg Tablet MD', 'Adpace 2 mg/50 mg Tablet', 'Adpace 2 mg/50 mg Tablet', 'Adpace 4 mg/50 mg Tablet', 'Afenak 100mg Tablet', 'Afenak 100mg Tablet', 'Agodep 25mg Tablet', 'Aldorace 50mg Tablet', 'Almantin 5mg Tablet', 'Alovent 5mg Tablet', 'Altiva 120mg Tablet', 'Altiva 180mg Tablet', 'Altiva 30mg Tablet', 'Alzolam 0.25mg Tablet', 'Alzolam 0.5mg Tablet', 'Alzolam 0.75mg Tablet', 'Alzolam 1mg Tablet', 'Amanat 5mg Tablet', 'Amditor 5 mg/10 mg Tablet', 'Amival 200 Tablet', 'Amixide 10mg Tablet', 'Amixide 25mg/10mg Tablet', 'Amx 250mg Tablet', 'Androblok 50mg Tablet', 'Androxil 250mg Tablet', 'Androxil 250mg Tablet', 'Anxinil 0.5mg Tablet', 'Aquamide 20 mg/50 mg Tablet', 'Aripra 10mg Tablet', 'Aripra 15mg Tablet', 'Aripra MT 15mg Tablet', 'Aripra MT 15mg Tablet', 'Aripra MT 20mg Tablet', 'Arpizol 2mg Tablet', 'Artagen 250mg Tablet', 'Aspent 60mg Tablet', 'Aspent 60mg Tablet', 'Attentrol 15mg Tablet', 'Avacard 5mg Tablet', 'Axcer  60mg Tablet', 'Axcer  90mg Tablet', 'Axcer  90mg Tablet', 'Azax 200mg Tablet', 'Azax 250 Tablet', 'Azax 500 Tablet', 'Azimune 50mg Tablet', 'Aztatin 10mg Tablet', 'Aztatin 20mg Tablet', 'Aztor EZ 20 mg/10 mg Tablet']\n",
            "Abamune Tablet  : ['Abamune Tablet', 'Acarcip 25 Tablet', 'Acarcip 50 Tablet', 'Advent 875mg/125mg Tablet', 'Alerid Tablet', 'Alfusin Tablet PR', 'Amantrel Tablet', 'Amlip 10 Tablet', 'Amlip 5 Tablet', 'Amlopres 10 Tablet', 'Amlopres 5 Tablet', 'Amlopres 5 Tablet', 'Armotraz Tablet', 'Assurans Tablet', 'Assurans Tablet', 'Asthalin 2 Tablet', 'Asthalin 4 Tablet', 'Atorlip 10 Tablet', 'Atorlip 20 Tablet', 'Atorlip 40 Tablet', 'Atorlip 5 Tablet', 'Atorlip 80 Tablet', 'Azee 250 Tablet', 'Azee 250 Tablet', 'Azee 500 Tablet', 'Azee 500 Tablet', 'Azicip 250 Tablet', 'Azicip 250 Tablet', 'Azicip 500 Tablet', 'Azimax 250 Tablet', 'Azimax 500 Tablet', 'Azimax 500 Tablet', 'Azipro 250 Tablet', 'Azipro 500 Tablet', 'ALBAXY TABLET', 'ALZOLAM FORTE 0.5MG/50MG TABLET', 'ALZOLAM FORTE 0.5MG/50MG TABLET', 'ALZOLAM PLUS 0.5MG/25MG TABLET', 'AMANAT 10MG TABLET', 'AMPREZ 10MG TABLET', 'AMPREZ 5MG TABLET', 'ARAVON TABLET', 'Acamprol Tablet', 'Actapro Tablet', 'Actapro Tablet', 'Actizo 40mg/240mg Tablet', 'Adcapone Tablet', 'Adesam 200 Tablet', 'Adesam 400 Tablet', 'Admenta 10 Tablet', 'Admenta 5 Tablet', 'Agoprex Tablet', 'Alcoliv Tablet', 'Alfence Tablet', 'Amival 100 Tablet', 'Amival 200 Tablet', 'Amival 50 Tablet', 'Amixide 25mg/10mg Tablet', 'Amixide 5 Tablet', 'Amlobet Tablet', 'Amlosun 10 Tablet', 'Amlosun 5 Tablet', 'Anabrez Tablet', 'Anxozap 10 Tablet', 'Anxozap 15 Tablet', 'Anxozap 30 Tablet', 'Aquazide 12.5 Tablet', 'Aquazide 25 Tablet', 'Arpizol 10 Tablet', 'Arpizol 15 Tablet', 'Arpizol 20 Tablet', 'Arpizol 30 Tablet', 'Arpizol 5 Tablet', 'Azax 250 Tablet', 'Azax 500 Tablet', 'Azemo Tablet', 'Aztolet  10 Tablet', 'Aztolet  20 Tablet', 'Aztor 10 Tablet', 'Aztor 20 Tablet', 'Aztor 20 Tablet', 'Aztor 40 Tablet', 'Aztor 40 Tablet', 'Aztor 5 Tablet', 'Aztor 80 Tablet']\n",
            "Acarcip 25 Tablet  : ['Abamune Tablet', 'Acarcip 25 Tablet', 'Acarcip 50 Tablet', 'Adesera 10mg Tablet', 'Alergin 10mg Tablet', 'Alerid Tablet', 'Amantrel Tablet', 'Amcold 5 mg/60 mg Tablet', 'Amlip 10 Tablet', 'Amlip 5 Tablet', 'Amlopres 10 Tablet', 'Amlopres 5 Tablet', 'Amlopres 5 Tablet', 'Amlopres AT 25 Tablet', 'Apenorm 4mg Tablet', 'Armotraz Tablet', 'Assurans Tablet', 'Assurans Tablet', 'Asthalin 2 Tablet', 'Asthalin 4 Tablet', 'Atorlip 10 Tablet', 'Atorlip 20 Tablet', 'Atorlip 40 Tablet', 'Atorlip 5 Tablet', 'Atorlip 80 Tablet', 'ALBAXY TABLET', 'AMANAT 10MG TABLET', 'AMPREZ 10MG TABLET', 'ARAVON TABLET', 'Acamprol Tablet', 'Actapro Tablet', 'Actapro Tablet', 'Actizo 20 mg/120 mg Tablet', 'Adcapone Tablet', 'Addwize 10mg Tablet', 'Adesam 200 Tablet', 'Adfovir 10mg Tablet', 'Adheb 10mg Tablet', 'Admenta 10 Tablet', 'Admenta 5 Tablet', 'Adpace 4 mg/50 mg Tablet', 'Agodep 25mg Tablet', 'Agoprex Tablet', 'Alcoliv Tablet', 'Alfence Tablet', 'Almantin 5mg Tablet', 'Alovent 5mg Tablet', 'Altiva 30mg Tablet', 'Amanat 5mg Tablet', 'Amditor 5 mg/10 mg Tablet', 'Amival 100 Tablet', 'Amival 200 Tablet', 'Amival 50 Tablet', 'Amixide 10mg Tablet', 'Amixide 5 Tablet', 'Amlobet Tablet', 'Amlosun 10 Tablet', 'Amlosun 5 Tablet', 'Anabrez Tablet', 'Angizem 30 Tablet MR', 'Anxozap 10 Tablet', 'Anxozap 15 Tablet', 'Anxozap 30 Tablet', 'Aquamide 20 mg/50 mg Tablet', 'Aquazide 25 Tablet', 'Aripra 10mg Tablet', 'Aripra 15mg Tablet', 'Arpizol 10 Tablet', 'Arpizol 15 Tablet', 'Arpizol 20 Tablet', 'Arpizol 30 Tablet', 'Arpizol 5 Tablet', 'Asenapt 10 Sublingual tablet', 'Attentrol 15mg Tablet', 'Avacard 5mg Tablet', 'Azemo Tablet', 'Aztatin 10mg Tablet', 'Aztatin 20mg Tablet', 'Aztolet  10 Tablet', 'Aztolet  20 Tablet', 'Aztor 10 Tablet', 'Aztor 20 Tablet', 'Aztor 20 Tablet', 'Aztor 40 Tablet', 'Aztor 40 Tablet', 'Aztor 5 Tablet', 'Aztor 80 Tablet']\n",
            "Acarcip 50 Tablet  : ['Abamune Tablet', 'Acarcip 25 Tablet', 'Acarcip 50 Tablet', 'Aceflex Plus 100 mg/500 mg Tablet', 'Acemax 250mg Tablet', 'Actiflu 500mg Tablet', 'Actiflu 500mg Tablet', 'Adesera 10mg Tablet', 'Alerfex 120mg Tablet', 'Alergin 10mg Tablet', 'Alerid Tablet', 'Alrik 100mg Tablet', 'Alrik 300mg Tablet', 'Amantrel Tablet', 'Amcold 5 mg/60 mg Tablet', 'Amlip 10 Tablet', 'Amlip 5 Tablet', 'Amlopres 10 Tablet', 'Amlopres 5 Tablet', 'Amlopres 5 Tablet', 'Armotraz Tablet', 'Assurans Tablet', 'Assurans Tablet', 'Atorlip 10 Tablet', 'Atorlip 20 Tablet', 'Atorlip 40 Tablet', 'Atorlip 5 Tablet', 'Atorlip 80 Tablet', 'Azee 1000 Tablet', 'Azee 100mg Tablet DT', 'Azee 250 Tablet', 'Azee 250 Tablet', 'Azee 500 Tablet', 'Azee 500 Tablet', 'Azicip 250 Tablet', 'Azicip 250 Tablet', 'Azicip 500 Tablet', 'Azimax 250 Tablet', 'Azimax 500 Tablet', 'Azimax 500 Tablet', 'Azimed 250mg Tablet', 'Azimed 500mg Tablet', 'Azipro 100mg Tablet DT', 'Azipro 100mg Tablet DT', 'Azipro 250 Tablet', 'Azipro 500 Tablet', 'Azmarda 100mg Tablet', 'Azmarda 200mg Tablet', 'Azmarda 50mg Tablet', 'Azomycin 500mg Tablet', 'ALBAXY TABLET', 'ALZOLAM PLUS 0.5MG/25MG TABLET', 'AMANAT 10MG TABLET', 'AMPREZ 10MG TABLET', 'ARAVON TABLET', 'Acamprol Tablet', 'Actapro Tablet', 'Actapro Tablet', 'Actizo 20 mg/120 mg Tablet', 'Actizo 80 mg/480 mg Tablet', 'Adcapone Tablet', 'Addwize 10mg Tablet', 'Adesam 200 Tablet', 'Adesam 400 Tablet', 'Adfovir 10mg Tablet', 'Adheb 10mg Tablet', 'Admenta 10 Tablet', 'Admenta 5 Tablet', 'Afenak 100mg Tablet', 'Afenak 100mg Tablet', 'Agodep 25mg Tablet', 'Agoprex Tablet', 'Alcoliv Tablet', 'Aldorace 50mg Tablet', 'Alfence Tablet', 'Almantin 5mg Tablet', 'Alovent 5mg Tablet', 'Altiva 120mg Tablet', 'Altiva 180mg Tablet', 'Altiva 30mg Tablet', 'Amanat 5mg Tablet', 'Amditor 5 mg/10 mg Tablet', 'Amival 100 Tablet', 'Amival 200 Tablet', 'Amival 50 Tablet', 'Amixide 10mg Tablet', 'Amixide 5 Tablet', 'Amlobet Tablet', 'Amlosun 10 Tablet', 'Amlosun 5 Tablet', 'Anabrez Tablet', 'Androblok 50mg Tablet', 'Androxil 250mg Tablet', 'Androxil 250mg Tablet', 'Angizem 60 Tablet MR', 'Anxozap 10 Tablet', 'Anxozap 15 Tablet', 'Anxozap 30 Tablet', 'Aquamide 20 mg/50 mg Tablet', 'Aquazide 25 Tablet', 'Aripra 10mg Tablet', 'Aripra 15mg Tablet', 'Arpizol 10 Tablet', 'Arpizol 15 Tablet', 'Arpizol 20 Tablet', 'Arpizol 30 Tablet', 'Arpizol 5 Tablet', 'Artagen 250mg Tablet', 'Aspent 60mg Tablet', 'Aspent 60mg Tablet', 'Attentrol 15mg Tablet', 'Avacard 5mg Tablet', 'Axcer  60mg Tablet', 'Axcer  90mg Tablet', 'Axcer  90mg Tablet', 'Azax 200mg Tablet', 'Azax 250 Tablet', 'Azax 500 Tablet', 'Azemo Tablet', 'Azimune 50mg Tablet', 'Aztatin 10mg Tablet', 'Aztatin 20mg Tablet', 'Aztolet  10 Tablet', 'Aztolet  20 Tablet', 'Aztor 10 Tablet', 'Aztor 20 Tablet', 'Aztor 20 Tablet', 'Aztor 40 Tablet', 'Aztor 40 Tablet', 'Aztor 5 Tablet', 'Aztor 80 Tablet']\n",
            "Aceflex Plus 100 mg/500 mg Tablet  : ['ALIANZ 100 MG/20 MG CAPSULE', 'AMPISYN 250 MG CAPSULE', 'AMPISYN 500 MG CAPSULE', 'Abamune L 600 mg/300 mg Tablet', 'Acarcip 50 Tablet', 'Aceflex Plus 100 mg/500 mg Tablet', 'Acemax 250mg Tablet', 'Actiflu 500mg Tablet', 'Actiflu 500mg Tablet', 'Adesera 10mg Tablet', 'Advent 875mg/125mg Tablet', 'Alerfex 120mg Tablet', 'Alergin 10mg Tablet', 'Alrik 100mg Tablet', 'Alrik 300mg Tablet', 'Amcold 5 mg/60 mg Tablet', 'Amicip 100mg Injection', 'Androfil 40mg Capsule', 'Antiflu 75mg Capsule', 'Apenorm 4mg Tablet', 'Aspin 100mg Tablet', 'Asthalin SA 4mg Tablet', 'Atavir 300mg Capsule', 'Atorlip 80 Tablet', 'Azee 100mg Tablet DT', 'Azee 250 Tablet', 'Azee 250 Tablet', 'Azee 500 Tablet', 'Azee 500 Tablet', 'Azicip 250 Tablet', 'Azicip 250 Tablet', 'Azicip 500 Tablet', 'Azimax 200mg Tablet DT', 'Azimax 250 Tablet', 'Azimax 500 Tablet', 'Azimax 500 Tablet', 'Azimed 250mg Tablet', 'Azimed 500mg Tablet', 'Azipro 100mg Tablet DT', 'Azipro 100mg Tablet DT', 'Azipro 250 Tablet', 'Azipro 500 Tablet', 'Azmarda 100mg Tablet', 'Azmarda 200mg Tablet', 'Azmarda 50mg Tablet', 'Azomycin 500mg Tablet', 'ADMENTA 10 MG TABLET MD', 'ALZOLAM 0.5 MG TABLET SR', 'ALZOLAM 1.5 MG TABLET SR', 'ALZOLAM PLUS 0.5MG/25MG TABLET', 'Acmil 50mg Capsule', 'Actizo 20 mg/120 mg Tablet', 'Actizo 40mg/240mg Tablet', 'Actizo 80 mg/480 mg Tablet', 'Addwize 10mg Tablet', 'Addwize OD 18mg Tablet', 'Adesam 200 Tablet', 'Adfovir 10mg Tablet', 'Adheb 10mg Tablet', 'Adiuretin 0.1mg Tablet', 'Adiuretin 0.2mg Tablet', 'Admenta  7mg Tablet XR', 'Admenta 14mg Tablet XR', 'Admenta 5mg Tablet MD', 'Adpace 2 mg/50 mg Tablet', 'Adpace 2 mg/50 mg Tablet', 'Adpace 4 mg/50 mg Tablet', 'Afenak 100mg Tablet', 'Afenak 100mg Tablet', 'Agodep 25mg Tablet', 'Aldorace 50mg Tablet', 'Alfakim 100mg Injection', 'Almantin 5mg Tablet', 'Alovent 5mg Tablet', 'Altiva 120mg Tablet', 'Altiva 180mg Tablet', 'Altiva 30mg Tablet', 'Alzolam 0.25mg Tablet', 'Alzolam 0.5mg Tablet', 'Alzolam 0.75mg Tablet', 'Alzolam 1mg Tablet', 'Amanat 5mg Tablet', 'Amditor 5 mg/10 mg Tablet', 'Amival 100 Tablet', 'Amival 200 Tablet', 'Amival 50 Tablet', 'Amixide 10mg Tablet', 'Amixide 25mg/10mg Tablet', 'Androblok 50mg Tablet', 'Androxil 250mg Tablet', 'Androxil 250mg Tablet', 'Anofer 100mg Injection', 'Anofer S 100mg Injection', 'Anxinil 0.5mg Tablet', 'Aquamide 20 mg/50 mg Tablet', 'Aripra 10mg Tablet', 'Aripra 15mg Tablet', 'Aripra MT 15mg Tablet', 'Aripra MT 15mg Tablet', 'Aripra MT 20mg Tablet', 'Arpizol 2mg Tablet', 'Artagen 250mg Tablet', 'Artisid 50mg Capsule', 'Aspent 60mg Tablet', 'Aspent 60mg Tablet', 'Attentrol 15mg Tablet', 'Attentrol 40mg Capsule', 'Avacard 5mg Tablet', 'Axcer  60mg Tablet', 'Axcer  90mg Tablet', 'Axcer  90mg Tablet', 'Azax 200mg Tablet', 'Azax 250 Tablet', 'Azax 500 Tablet', 'Azimune 50mg Tablet', 'Aztatin 10mg Tablet', 'Aztatin 20mg Tablet', 'Aztor 80 Tablet', 'Aztor EZ 20 mg/10 mg Tablet', 'Azzure 100mg Injection']\n",
            "Acemax 250mg Tablet  : ['ALIANZ 100 MG/20 MG CAPSULE', 'AMPISYN 250 MG CAPSULE', 'AMPISYN 500 MG CAPSULE', 'AZEEMUNE 500MG TABLET', 'Abamune L 600 mg/300 mg Tablet', 'Acarcip 50 Tablet', 'Aceflex Plus 100 mg/500 mg Tablet', 'Acemax 250mg Tablet', 'Actiflu 500mg Tablet', 'Actiflu 500mg Tablet', 'Adesera 10mg Tablet', 'Advent 200mg/28.5mg Tablet DT', 'Advent 457mg Tablet DT', 'Advent 875mg/125mg Tablet', 'Alerfex 120mg Tablet', 'Alergin 10mg Tablet', 'Alrik 100mg Tablet', 'Alrik 300mg Tablet', 'Amcold 5 mg/60 mg Tablet', 'Amicip 250mg Injection', 'Amicip 500mg Injection', 'Amlopres-NB 5mg/5mg Tablet', 'Amlopres-Z 50mg/5mg Tablet', 'Androfil 40mg Capsule', 'Antiflu 75mg Capsule', 'Apenorm 4mg Tablet', 'Aspin 100mg Tablet', 'Aspin 300mg Tablet DT', 'Asthalin SA 4mg Tablet', 'Atavir 300mg Capsule', 'Atorlip EZ 10mg/10mg Tablet', 'Atorlip-F 5mg/145mg Tablet', 'Avogran 1mg Tablet DT', 'Avogran 1mg Tablet DT', 'Azee 1000 Tablet', 'Azee 100mg Tablet DT', 'Azee 250 Tablet', 'Azee 250 Tablet', 'Azee 500 Tablet', 'Azee 500 Tablet', 'Azee AX 500mg/75mg Tablet', 'Azicip 250 Tablet', 'Azicip 250 Tablet', 'Azicip 500 Tablet', 'Azimax 200mg Tablet DT', 'Azimax 250 Tablet', 'Azimax 500 Tablet', 'Azimax 500 Tablet', 'Azimax 500mg Injection', 'Azimed 250mg Tablet', 'Azimed 500mg Tablet', 'Azipro 100mg Tablet DT', 'Azipro 100mg Tablet DT', 'Azipro 250 Tablet', 'Azipro 500 Tablet', 'Azipro 500mg Injection', 'Azipro 500mg Injection', 'Azmarda 100mg Tablet', 'Azmarda 200mg Tablet', 'Azmarda 50mg Tablet', 'Azomycin 500mg Tablet', 'ADMENTA 10 MG TABLET MD', 'ALZOLAM 0.5 MG TABLET SR', 'ALZOLAM 1.5 MG TABLET SR', 'Acmil 50mg Capsule', 'Actizo 20 mg/120 mg Tablet', 'Actizo 40mg/240mg Tablet', 'Actizo 80 mg/480 mg Tablet', 'Addwize 10mg Tablet', 'Addwize OD 18mg Tablet', 'Adesam 200 Tablet', 'Adesam 400 Tablet', 'Adfovir 10mg Tablet', 'Adheb 10mg Tablet', 'Adiuretin 0.1mg Tablet', 'Adiuretin 0.2mg Tablet', 'Admenta  7mg Tablet XR', 'Admenta 14mg Tablet XR', 'Admenta 5mg Tablet MD', 'Adpace 2 mg/50 mg Tablet', 'Adpace 2 mg/50 mg Tablet', 'Adpace 4 mg/50 mg Tablet', 'Afenak 100mg Tablet', 'Afenak 100mg Tablet', 'Agodep 25mg Tablet', 'Aldorace 50mg Tablet', 'Alfakim 250mg Injection', 'Alfakim 500mg Injection', 'Almantin 5mg Tablet', 'Alovent 5mg Tablet', 'Altiva 120mg Tablet', 'Altiva 180mg Tablet', 'Altiva 30mg Tablet', 'Altraflam 200mg Capsule SR', 'Altraflam 200mg Capsule SR', 'Alzolam 0.125mg Tablet', 'Alzolam 0.25mg Tablet', 'Alzolam 0.5mg Tablet', 'Alzolam 0.75mg Tablet', 'Alzolam 1mg Tablet', 'Amanat 5mg Tablet', 'Amditor 5 mg/10 mg Tablet', 'Amival 100 Tablet', 'Amival 200 Tablet', 'Amival 50 Tablet', 'Amixide 10mg Tablet', 'Amixide 25mg/10mg Tablet', 'Amx 125mg Tablet', 'Amx 250mg Tablet', 'Androblok 50mg Tablet', 'Androxil 250mg Tablet', 'Androxil 250mg Tablet', 'Anxinil 0.5mg Tablet', 'Aquamide 20 mg/50 mg Tablet', 'Aripra 10mg Tablet', 'Aripra 15mg Tablet', 'Aripra MT 15mg Tablet', 'Aripra MT 15mg Tablet', 'Aripra MT 20mg Tablet', 'Arpizol 2mg Tablet', 'Artagen 250mg Tablet', 'Artisid 50mg Capsule', 'Artisun 150mg Injection', 'Aspent 60mg Tablet', 'Aspent 60mg Tablet', 'Attentrol 15mg Tablet', 'Attentrol 40mg Capsule', 'Avacard 5mg Tablet', 'Axcer  60mg Tablet', 'Axcer  90mg Tablet', 'Axcer  90mg Tablet', 'Azax 200mg Tablet', 'Azax 250 Tablet', 'Azax 500 Tablet', 'Azimune 50mg Tablet', 'Azostat 150 mg/1000 mg Kit', 'Aztatin 10mg Tablet', 'Aztatin 20mg Tablet', 'Aztor EZ 20 mg/10 mg Tablet']\n",
            "Acivir 200 DT Tablet  : ['Acivir 200 DT Tablet', 'Acivir 400 DT Tablet', 'Acivir 800 DT Tablet', 'Advent 200mg/28.5mg Tablet DT', 'Advent 457mg Tablet DT', 'Avogran 1mg Tablet DT', 'Avogran 1mg Tablet DT', 'Azee 1000 Tablet', 'Azee 100mg Tablet DT', 'Azee 200 DT Tablet', 'Azee 250 Tablet', 'Azee 250 Tablet', 'Azee 500 Tablet', 'Azee 500 Tablet', 'Azicip 250 Tablet', 'Azicip 250 Tablet', 'Azicip 500 Tablet', 'Azimax 200mg Tablet DT', 'Azimax 250 Tablet', 'Azimax 500 Tablet', 'Azimax 500 Tablet', 'Azipro 100mg Tablet DT', 'Azipro 100mg Tablet DT', 'Azipro 250 Tablet', 'Azipro 500 Tablet', 'Adesam 200 Tablet', 'Adesam 400 Tablet', 'Amival 200 Tablet', 'Azax 250 Tablet', 'Azax 500 Tablet']\n",
            "Acivir 400 DT Tablet  : ['Acivir 200 DT Tablet', 'Acivir 400 DT Tablet', 'Acivir 800 DT Tablet', 'Advent 200mg/28.5mg Tablet DT', 'Advent 457mg Tablet DT', 'Aspin 300mg Tablet DT', 'Avogran 1mg Tablet DT', 'Avogran 1mg Tablet DT', 'Azee 1000 Tablet', 'Azee 100mg Tablet DT', 'Azee 200 DT Tablet', 'Azee 250 Tablet', 'Azee 250 Tablet', 'Azee 500 Tablet', 'Azee 500 Tablet', 'Azicip 250 Tablet', 'Azicip 250 Tablet', 'Azicip 500 Tablet', 'Azimax 200mg Tablet DT', 'Azimax 250 Tablet', 'Azimax 500 Tablet', 'Azimax 500 Tablet', 'Azipro 100mg Tablet DT', 'Azipro 100mg Tablet DT', 'Azipro 250 Tablet', 'Azipro 500 Tablet', 'Adesam 200 Tablet', 'Adesam 400 Tablet', 'Amival 200 Tablet', 'Azax 250 Tablet', 'Azax 500 Tablet']\n",
            "Acivir 500 Infusion  : ['Acivir 500 Infusion']\n",
            "Acivir 800 DT Tablet  : ['Acivir 200 DT Tablet', 'Acivir 400 DT Tablet', 'Acivir 800 DT Tablet', 'Azee 1000 Tablet', 'Azee 100mg Tablet DT', 'Azee 200 DT Tablet', 'Azee 250 Tablet', 'Azee 250 Tablet', 'Azee 500 Tablet', 'Azee 500 Tablet', 'Azicip 250 Tablet', 'Azicip 250 Tablet', 'Azicip 500 Tablet', 'Azimax 200mg Tablet DT', 'Azimax 250 Tablet', 'Azimax 500 Tablet', 'Azimax 500 Tablet', 'Azipro 100mg Tablet DT', 'Azipro 100mg Tablet DT', 'Azipro 250 Tablet', 'Azipro 500 Tablet', 'Adesam 400 Tablet', 'Azax 250 Tablet', 'Azax 500 Tablet']\n",
            "Acivir Cream  : ['Acivir Cream', 'Acivir Cream', 'Auxerg Cream', 'Acivir Cream', 'Acivir Cream', 'Auxerg Cream']\n",
            "Acivir Eye Drop  : ['Acivir Eye Drop', 'Add Tears Lubricant Eye Drop', 'Ataron Eye Drop', 'Azelast Eye Drop']\n",
            "Acivir Eye Ointment  : ['Acivir Eye Ointment', 'Acyclovir Eye Ointment']\n",
            "Acivir IV Injection  : ['Acivir IV Injection', 'Assurans Injection', 'Aravon Injection', 'Asginase 10000IU Injection', 'Atracurium Besilate Injection']\n",
            "Aclene 0.10% Gel  : ['Aclene 0.10% Gel', 'Adaclene 0.1% Gel']\n",
            "Acnedap Gel  : ['Acnedap Gel', 'Acnedap Plus Gel', 'Acneheal Gel', 'Androfil Gel']\n",
            "Acnedap Plus Gel  : ['Acnedap Gel', 'Acnedap Plus Gel', 'Acneheal Gel', 'Androfil Gel']\n",
            "Acneheal Gel  : ['Acnedap Gel', 'Acnedap Plus Gel', 'Acneheal Gel', 'Androfil Gel']\n",
            "Actiflu 500mg Tablet  : ['ALIANZ 100 MG/20 MG CAPSULE', 'AMPISYN 250 MG CAPSULE', 'AMPISYN 500 MG CAPSULE', 'AZEEMUNE 500MG TABLET', 'Abamune L 600 mg/300 mg Tablet', 'Acarcip 50 Tablet', 'Aceflex Plus 100 mg/500 mg Tablet', 'Acemax 250mg Tablet', 'Actiflu 500mg Tablet', 'Actiflu 500mg Tablet', 'Adesera 10mg Tablet', 'Advent 200mg/28.5mg Tablet DT', 'Advent 457mg Tablet DT', 'Advent 875mg/125mg Tablet', 'Alerfex 120mg Tablet', 'Alergin 10mg Tablet', 'Alrik 100mg Tablet', 'Alrik 300mg Tablet', 'Amcold 5 mg/60 mg Tablet', 'Amicip 250mg Injection', 'Amicip 500mg Injection', 'Amlopres-NB 5mg/5mg Tablet', 'Amlopres-Z 50mg/5mg Tablet', 'Androfil 40mg Capsule', 'Antiflu 75mg Capsule', 'Apenorm 4mg Tablet', 'Aspin 100mg Tablet', 'Aspin 300mg Tablet DT', 'Atavir 300mg Capsule', 'Atorlip EZ 10mg/10mg Tablet', 'Atorlip-F 5mg/145mg Tablet', 'Avogran 1mg Tablet DT', 'Avogran 1mg Tablet DT', 'Azee 1000 Tablet', 'Azee 100mg Tablet DT', 'Azee 250 Tablet', 'Azee 250 Tablet', 'Azee 500 Tablet', 'Azee 500 Tablet', 'Azee AX 500mg/75mg Tablet', 'Azicip 250 Tablet', 'Azicip 250 Tablet', 'Azicip 500 Tablet', 'Azimax 200mg Tablet DT', 'Azimax 250 Tablet', 'Azimax 500 Tablet', 'Azimax 500 Tablet', 'Azimax 500mg Injection', 'Azimed 250mg Tablet', 'Azimed 500mg Tablet', 'Azipro 100mg Tablet DT', 'Azipro 100mg Tablet DT', 'Azipro 250 Tablet', 'Azipro 500 Tablet', 'Azipro 500mg Injection', 'Azipro 500mg Injection', 'Azmarda 100mg Tablet', 'Azmarda 200mg Tablet', 'Azmarda 50mg Tablet', 'Azomycin 500mg Tablet', 'ADMENTA 10 MG TABLET MD', 'ALZOLAM 0.5 MG TABLET SR', 'ALZOLAM 1.5 MG TABLET SR', 'Acmil 50mg Capsule', 'Acrotac 10mg Capsule', 'Actizo 20 mg/120 mg Tablet', 'Actizo 40mg/240mg Tablet', 'Actizo 80 mg/480 mg Tablet', 'Addwize 10mg Tablet', 'Addwize OD 18mg Tablet', 'Adesam 200 Tablet', 'Adesam 400 Tablet', 'Adfovir 10mg Tablet', 'Adheb 10mg Tablet', 'Adiuretin 0.1mg Tablet', 'Adiuretin 0.2mg Tablet', 'Admenta  7mg Tablet XR', 'Admenta 14mg Tablet XR', 'Admenta 5mg Tablet MD', 'Adpace 2 mg/50 mg Tablet', 'Adpace 2 mg/50 mg Tablet', 'Adpace 4 mg/50 mg Tablet', 'Afenak 100mg Tablet', 'Afenak 100mg Tablet', 'Agodep 25mg Tablet', 'Aldorace 50mg Tablet', 'Alfakim 250mg Injection', 'Alfakim 500mg Injection', 'Almantin 5mg Tablet', 'Alovent 5mg Tablet', 'Altiva 120mg Tablet', 'Altiva 180mg Tablet', 'Altiva 30mg Tablet', 'Altraflam 200mg Capsule SR', 'Altraflam 200mg Capsule SR', 'Alzolam 0.125mg Tablet', 'Alzolam 0.25mg Tablet', 'Alzolam 0.5mg Tablet', 'Alzolam 0.75mg Tablet', 'Alzolam 1mg Tablet', 'Amanat 5mg Tablet', 'Amditor 5 mg/10 mg Tablet', 'Amival 100 Tablet', 'Amival 200 Tablet', 'Amival 50 Tablet', 'Amixide 10mg Tablet', 'Amixide 25mg/10mg Tablet', 'Amx 125mg Tablet', 'Amx 250mg Tablet', 'Androblok 50mg Tablet', 'Androxil 250mg Tablet', 'Androxil 250mg Tablet', 'Anxinil 0.5mg Tablet', 'Aquamide 20 mg/50 mg Tablet', 'Aripra 10mg Tablet', 'Aripra 15mg Tablet', 'Aripra MT 15mg Tablet', 'Aripra MT 15mg Tablet', 'Aripra MT 20mg Tablet', 'Arpizol 2mg Tablet', 'Artagen 250mg Tablet', 'Artisid 50mg Capsule', 'Aspent 60mg Tablet', 'Aspent 60mg Tablet', 'Attentrol 10mg Capsule', 'Attentrol 15mg Tablet', 'Attentrol 40mg Capsule', 'Avacard 5mg Tablet', 'Axcer  60mg Tablet', 'Axcer  90mg Tablet', 'Axcer  90mg Tablet', 'Azax 200mg Tablet', 'Azax 250 Tablet', 'Azax 500 Tablet', 'Azimune 50mg Tablet', 'Aztatin 10mg Tablet', 'Aztatin 20mg Tablet', 'Aztor EZ 20 mg/10 mg Tablet', 'ALIANZ 100 MG/20 MG CAPSULE', 'AMPISYN 250 MG CAPSULE', 'AMPISYN 500 MG CAPSULE', 'AZEEMUNE 500MG TABLET', 'Abamune L 600 mg/300 mg Tablet', 'Acarcip 50 Tablet', 'Aceflex Plus 100 mg/500 mg Tablet', 'Acemax 250mg Tablet', 'Actiflu 500mg Tablet', 'Actiflu 500mg Tablet', 'Adesera 10mg Tablet', 'Advent 200mg/28.5mg Tablet DT', 'Advent 457mg Tablet DT', 'Advent 875mg/125mg Tablet', 'Alerfex 120mg Tablet', 'Alergin 10mg Tablet', 'Alrik 100mg Tablet', 'Alrik 300mg Tablet', 'Amcold 5 mg/60 mg Tablet', 'Amicip 250mg Injection', 'Amicip 500mg Injection', 'Amlopres-NB 5mg/5mg Tablet', 'Amlopres-Z 50mg/5mg Tablet', 'Androfil 40mg Capsule', 'Antiflu 75mg Capsule', 'Apenorm 4mg Tablet', 'Aspin 100mg Tablet', 'Aspin 300mg Tablet DT', 'Atavir 300mg Capsule', 'Atorlip EZ 10mg/10mg Tablet', 'Atorlip-F 5mg/145mg Tablet', 'Avogran 1mg Tablet DT', 'Avogran 1mg Tablet DT', 'Azee 1000 Tablet', 'Azee 100mg Tablet DT', 'Azee 250 Tablet', 'Azee 250 Tablet', 'Azee 500 Tablet', 'Azee 500 Tablet', 'Azee AX 500mg/75mg Tablet', 'Azicip 250 Tablet', 'Azicip 250 Tablet', 'Azicip 500 Tablet', 'Azimax 200mg Tablet DT', 'Azimax 250 Tablet', 'Azimax 500 Tablet', 'Azimax 500 Tablet', 'Azimax 500mg Injection', 'Azimed 250mg Tablet', 'Azimed 500mg Tablet', 'Azipro 100mg Tablet DT', 'Azipro 100mg Tablet DT', 'Azipro 250 Tablet', 'Azipro 500 Tablet', 'Azipro 500mg Injection', 'Azipro 500mg Injection', 'Azmarda 100mg Tablet', 'Azmarda 200mg Tablet', 'Azmarda 50mg Tablet', 'Azomycin 500mg Tablet', 'ADMENTA 10 MG TABLET MD', 'ALZOLAM 0.5 MG TABLET SR', 'ALZOLAM 1.5 MG TABLET SR', 'Acmil 50mg Capsule', 'Acrotac 10mg Capsule', 'Actizo 20 mg/120 mg Tablet', 'Actizo 40mg/240mg Tablet', 'Actizo 80 mg/480 mg Tablet', 'Addwize 10mg Tablet', 'Addwize OD 18mg Tablet', 'Adesam 200 Tablet', 'Adesam 400 Tablet', 'Adfovir 10mg Tablet', 'Adheb 10mg Tablet', 'Adiuretin 0.1mg Tablet', 'Adiuretin 0.2mg Tablet', 'Admenta  7mg Tablet XR', 'Admenta 14mg Tablet XR', 'Admenta 5mg Tablet MD', 'Adpace 2 mg/50 mg Tablet', 'Adpace 2 mg/50 mg Tablet', 'Adpace 4 mg/50 mg Tablet', 'Afenak 100mg Tablet', 'Afenak 100mg Tablet', 'Agodep 25mg Tablet', 'Aldorace 50mg Tablet', 'Alfakim 250mg Injection', 'Alfakim 500mg Injection', 'Almantin 5mg Tablet', 'Alovent 5mg Tablet', 'Altiva 120mg Tablet', 'Altiva 180mg Tablet', 'Altiva 30mg Tablet', 'Altraflam 200mg Capsule SR', 'Altraflam 200mg Capsule SR', 'Alzolam 0.125mg Tablet', 'Alzolam 0.25mg Tablet', 'Alzolam 0.5mg Tablet', 'Alzolam 0.75mg Tablet', 'Alzolam 1mg Tablet', 'Amanat 5mg Tablet', 'Amditor 5 mg/10 mg Tablet', 'Amival 100 Tablet', 'Amival 200 Tablet', 'Amival 50 Tablet', 'Amixide 10mg Tablet', 'Amixide 25mg/10mg Tablet', 'Amx 125mg Tablet', 'Amx 250mg Tablet', 'Androblok 50mg Tablet', 'Androxil 250mg Tablet', 'Androxil 250mg Tablet', 'Anxinil 0.5mg Tablet', 'Aquamide 20 mg/50 mg Tablet', 'Aripra 10mg Tablet', 'Aripra 15mg Tablet', 'Aripra MT 15mg Tablet', 'Aripra MT 15mg Tablet', 'Aripra MT 20mg Tablet', 'Arpizol 2mg Tablet', 'Artagen 250mg Tablet', 'Artisid 50mg Capsule', 'Aspent 60mg Tablet', 'Aspent 60mg Tablet', 'Attentrol 10mg Capsule', 'Attentrol 15mg Tablet', 'Attentrol 40mg Capsule', 'Avacard 5mg Tablet', 'Axcer  60mg Tablet', 'Axcer  90mg Tablet', 'Axcer  90mg Tablet', 'Azax 200mg Tablet', 'Azax 250 Tablet', 'Azax 500 Tablet', 'Azimune 50mg Tablet', 'Aztatin 10mg Tablet', 'Aztatin 20mg Tablet', 'Aztor EZ 20 mg/10 mg Tablet']\n",
            "Actiflu Syrup  : ['Actiflu Syrup', 'Alerid Syrup', 'Alerid Syrup', 'Alkacip Syrup', 'Amcold Syrup', 'Asthalin Syrup', 'Absenz Syrup', 'Acelast 50mg/5ml Syrup', 'Aqualac Syrup']\n",
            "Actorise 100 Injection  : ['Actorise 100 Injection', 'Actorise 200 Injection', 'Actorise 25 Injection', 'Actorise 40 Injection', 'Actorise 60 Injection', 'Amicip 100mg Injection', 'Azee 500 Injection', 'Alfakim 100mg Injection', 'Anofer 100mg Injection', 'Anofer S 100mg Injection', 'Aqsusten  25 Injection', 'Artisun 150mg Injection', 'Azzure 100mg Injection']\n",
            "Actorise 200 Injection  : ['Actorise 100 Injection', 'Actorise 200 Injection', 'Actorise 40 Injection', 'Actorise 60 Injection', 'Advent 150mg Injection', 'Advent 300mg Injection', 'Advent 600mg Injection', 'Amicip 100mg Injection', 'Amicip 250mg Injection', 'Amicip 500mg Injection', 'Azee 500 Injection', 'Azimax 500mg Injection', 'Azipro 500mg Injection', 'Azipro 500mg Injection', 'Alfakim 100mg Injection', 'Alfakim 250mg Injection', 'Alfakim 500mg Injection', 'Anofer 100mg Injection', 'Artisun 150mg Injection', 'Azzure 100mg Injection']\n"
          ],
          "name": "stdout"
        }
      ]
    },
    {
      "cell_type": "code",
      "metadata": {
        "id": "9c1v1XZVfXF7"
      },
      "source": [
        "with open(\"output1.txt\",\"w\") as f:\n",
        "  for i in dictionary:\n",
        "    s=i+'::'+','.join(dictionary[i])+'\\n'\n",
        "    f.write(s)\n",
        "f.close()"
      ],
      "execution_count": 12,
      "outputs": []
    },
    {
      "cell_type": "code",
      "metadata": {
        "id": "o8LOqt5ETcYh"
      },
      "source": [
        ""
      ],
      "execution_count": null,
      "outputs": []
    }
  ]
}